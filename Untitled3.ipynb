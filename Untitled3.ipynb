{
  "nbformat": 4,
  "nbformat_minor": 0,
  "metadata": {
    "colab": {
      "provenance": [],
      "authorship_tag": "ABX9TyO2KmuWzRwAWOQEUb5XRoRa",
      "include_colab_link": true
    },
    "kernelspec": {
      "name": "python3",
      "display_name": "Python 3"
    },
    "language_info": {
      "name": "python"
    }
  },
  "cells": [
    {
      "cell_type": "markdown",
      "metadata": {
        "id": "view-in-github",
        "colab_type": "text"
      },
      "source": [
        "<a href=\"https://colab.research.google.com/github/daianny25/ALGESTDADOS_20251/blob/main/Untitled3.ipynb\" target=\"_parent\"><img src=\"https://colab.research.google.com/assets/colab-badge.svg\" alt=\"Open In Colab\"/></a>"
      ]
    },
    {
      "cell_type": "code",
      "execution_count": 4,
      "metadata": {
        "colab": {
          "base_uri": "https://localhost:8080/"
        },
        "id": "OEi2Hp1UyTCE",
        "outputId": "046aecf9-259a-4db7-c3bd-fa347c8cfb17"
      },
      "outputs": [
        {
          "output_type": "stream",
          "name": "stdout",
          "text": [
            "2025\n"
          ]
        }
      ],
      "source": [
        "#7– Escreva um código completo em Python que utilize a biblioteca DATETIME para obter e exibir o ano atual na tela.\n",
        "from datetime import datetime\n",
        "ano = datetime.now().year\n",
        "print(ano)"
      ]
    },
    {
      "cell_type": "code",
      "source": [
        "#8-Escreva um programa em Python que utilize um laço for para imprimir os números de 1 a 10. O programa deve pular os números múltiplos de 3 utilizando a estrutura condicional apropriada.\n",
        "for i in range(0,11):\n",
        " if i % 3 == 0:\n",
        "  continue\n",
        " print(i)"
      ],
      "metadata": {
        "colab": {
          "base_uri": "https://localhost:8080/"
        },
        "id": "xQKlpvi_zH-k",
        "outputId": "7772f858-f38a-4721-91d4-8e6b79963542"
      },
      "execution_count": 2,
      "outputs": [
        {
          "output_type": "stream",
          "name": "stdout",
          "text": [
            "1\n",
            "2\n",
            "4\n",
            "5\n",
            "7\n",
            "8\n",
            "10\n"
          ]
        }
      ]
    },
    {
      "cell_type": "code",
      "source": [
        "#9-A função INPUT() em Python é usada para receber entrada do usuário. Ela exibe uma mensagem (prompt), aguarda o que for digitado pelo teclado e retorna o valor como uma STRING. Crie um algoritmo em Python que solicite ao usuário uma frase qualquer. O programa deve contar a quantidade de caracteres digitados, mas só deve exibir esse número se a frase tiver mais de 10 caracteres.\n",
        "frase = input('digite uma frase:')\n",
        "for i in range(len(frase)):\n",
        " if len(frase) > 10:\n",
        "  print(len(frase))\n",
        "  break"
      ],
      "metadata": {
        "colab": {
          "base_uri": "https://localhost:8080/"
        },
        "id": "JZiGcyJezipy",
        "outputId": "f69b802d-10a5-4b36-de3b-42ca1ba48711"
      },
      "execution_count": 22,
      "outputs": [
        {
          "output_type": "stream",
          "name": "stdout",
          "text": [
            "digite uma frase:paralelepipedo\n",
            "14\n"
          ]
        }
      ]
    },
    {
      "cell_type": "code",
      "source": [
        "#10- Em Python, uma variável é um nome associado a um espaço na memória usado para armazenar um único valor por vez. Ela permite guardar informações que podem ser reutilizadas ao longo do programa. Considere duas variáveis chamadas POTE_A e POTE_B. Escreva um algoritmo em Python que solicite ao usuário a inserção de um valor para cada uma dessas variáveis. No entanto, após a inserção, os valores devem ser trocados entre si, ou seja, o valor digitado inicialmente para POTE_A deve ser armazenado em POTE_B, e o valor de POTE_B deve ser armazenado em POTE_A. Importante: A troca deve ser feita de forma independente do momento da inserção, ouseja, não é permitido inverter os valores diretamente no momento do input. A lógica de troca deve ocorrer após a leitura dos dados\n",
        "poteA = input('digite o valor do poteA:')\n",
        "poteB = input('digite o valor do poteB:')\n",
        "potea = poteB\n",
        "poteb = poteA\n",
        "print(f'poteA e {potea} valor e poteB {poteb}valor')"
      ],
      "metadata": {
        "colab": {
          "base_uri": "https://localhost:8080/"
        },
        "id": "S6gwyEFdz7iT",
        "outputId": "1a7d715b-eb52-4f4d-9f78-062807ea6e82"
      },
      "execution_count": 24,
      "outputs": [
        {
          "output_type": "stream",
          "name": "stdout",
          "text": [
            "digite o valor do poteA:20\n",
            "digite o valor do poteB:25\n",
            "poteA e 25 valor e poteB 20valor\n"
          ]
        }
      ]
    }
  ]
}