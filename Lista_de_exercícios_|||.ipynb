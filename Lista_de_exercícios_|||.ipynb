{
  "nbformat": 4,
  "nbformat_minor": 0,
  "metadata": {
    "colab": {
      "provenance": [],
      "include_colab_link": true
    },
    "kernelspec": {
      "name": "python3",
      "display_name": "Python 3"
    },
    "language_info": {
      "name": "python"
    }
  },
  "cells": [
    {
      "cell_type": "markdown",
      "metadata": {
        "id": "view-in-github",
        "colab_type": "text"
      },
      "source": [
        "<a href=\"https://colab.research.google.com/github/daianny25/ALGESTDADOS_20251/blob/main/Lista_de_exerc%C3%ADcios_%7C%7C%7C.ipynb\" target=\"_parent\"><img src=\"https://colab.research.google.com/assets/colab-badge.svg\" alt=\"Open In Colab\"/></a>"
      ]
    },
    {
      "cell_type": "markdown",
      "source": [
        "Lista de Exercícios III - 15 pontos\n",
        "Thaylaine e Daianny"
      ],
      "metadata": {
        "id": "hktp6rc1YnxF"
      }
    },
    {
      "cell_type": "code",
      "execution_count": null,
      "metadata": {
        "id": "IMXkLt4hYjWh",
        "colab": {
          "base_uri": "https://localhost:8080/"
        },
        "outputId": "5923a9d1-6722-462e-a576-ba434ed5c30d"
      },
      "outputs": [
        {
          "output_type": "stream",
          "name": "stdout",
          "text": [
            "Digite o 1º número inteiro: 10\n",
            "Digite o 2º número inteiro: 30\n",
            "Digite o 3º número inteiro: 50\n",
            "Digite o 4º número inteiro: 10\n",
            "Digite o 5º número inteiro: 60\n",
            "Digite o 6º número inteiro: 90\n",
            "Digite o 7º número inteiro: 80\n",
            "Digite o 8º número inteiro: 60\n",
            "Digite o 9º número inteiro: 70\n",
            "Digite o 10º número inteiro: 50\n",
            "Digite o 11º número inteiro: 80\n",
            "Digite o 12º número inteiro: 90\n",
            "Digite o 13º número inteiro: 30\n",
            "Digite o 14º número inteiro: 10\n",
            "Digite o 15º número inteiro: 40\n",
            "Lista original: [10, 30, 50, 10, 60, 90, 80, 60, 70, 50, 80, 90, 30, 10, 40]\n",
            "Lista sem números repetidos: [10, 30, 50, 60, 90, 80, 70, 40]\n"
          ]
        }
      ],
      "source": [
        "#1. Crie uma lista com 15 números inteiros digitados pelo usuário. Em seguida, remova todos os números repetidos, mantendo a ordem original.\n",
        "numeros = []\n",
        "for i in range(15):\n",
        "    num = int(input(f\"Digite o {i+1}º número inteiro: \"))\n",
        "    numeros.append(num)\n",
        "numeros_unicos = []50\n",
        "for num in numeros:\n",
        "    if num not in numeros_unicos:\n",
        "        numeros_unicos.append(num)\n",
        "\n",
        "print(\"L\n",
        "print(\"Lista sem números repetidos:\", numeros_unicos)\n"
      ]
    },
    {
      "cell_type": "code",
      "source": [
        "#2. Escreva um programa que leia 10 nomes e 10 idades. Armazene os nomes em uma lista e as idades em outra. Em seguida, exiba o nome da pessoa mais velha.\n",
        "nomes = []\n",
        "idades = []\n",
        "for i in range(10):\n",
        "    nome = input(f\"Digite o nome da {i+1}ª pessoa: \")\n",
        "    idade = int(input(f\"Digite a idade de {nome}: \"))\n",
        "    nomes.append(nome)\n",
        "    idades.append(idade)\n",
        "indice_mais_velho = idades.index(max(idades))\n",
        "print(f\"A pessoa mais velha é {nomes[indice_mais_velho]} com {idades[indice_mais_velho]} anos.\")\n"
      ],
      "metadata": {
        "id": "CqQ-QHABZjdj",
        "colab": {
          "base_uri": "https://localhost:8080/"
        },
        "outputId": "ca1b0dad-fbf4-4ae9-ebb8-d3ba008cb750"
      },
      "execution_count": null,
      "outputs": [
        {
          "output_type": "stream",
          "name": "stdout",
          "text": [
            "Digite o nome da 1ª pessoa: daianny\n",
            "Digite a idade de daianny: 21\n",
            "Digite o nome da 2ª pessoa: arthur\n",
            "Digite a idade de arthur: 12\n",
            "Digite o nome da 3ª pessoa: cida\n",
            "Digite a idade de cida: 30\n",
            "Digite o nome da 4ª pessoa: ariane\n",
            "Digite a idade de ariane: 50\n",
            "Digite o nome da 5ª pessoa: karine\n",
            "Digite a idade de karine: 2\n",
            "Digite o nome da 6ª pessoa: vanessa\n",
            "Digite a idade de vanessa: 25\n",
            "Digite o nome da 7ª pessoa: kaick\n",
            "Digite a idade de kaick: 15\n",
            "Digite o nome da 8ª pessoa: fabiana\n",
            "Digite a idade de fabiana: 36\n",
            "Digite o nome da 9ª pessoa: lucas\n",
            "Digite a idade de lucas: 42\n",
            "Digite o nome da 10ª pessoa: lucineia\n",
            "Digite a idade de lucineia: 65\n",
            "A pessoa mais velha é lucineia com 65 anos.\n"
          ]
        }
      ]
    },
    {
      "cell_type": "markdown",
      "source": [],
      "metadata": {
        "id": "ao9A8bvHBVIz"
      }
    },
    {
      "cell_type": "code",
      "source": [
        "#3. Faça um programa que leia uma lista de 10 números e divida todos os valores ímpares por 3 e os pares por 2, substituindo os valores originais.\n",
        "numeros = []\n",
        "for i in range(10):\n",
        "    num = int(input(f\"Digite o {i+1}º número inteiro: \"))\n",
        "    numeros.append(num)\n",
        "    if num % 2 == 0:\n",
        "        numeros[i] = num / 2\n",
        "    else:\n",
        "        numeros[i] = num * 3\n",
        "print(\"Lista resultante:\", numeros)\n",
        "\n",
        "\n"
      ],
      "metadata": {
        "id": "6cG-iG32ZpFJ",
        "colab": {
          "base_uri": "https://localhost:8080/"
        },
        "outputId": "0ed19898-83f8-4a4c-92f1-f61da2d4e210"
      },
      "execution_count": null,
      "outputs": [
        {
          "output_type": "stream",
          "name": "stdout",
          "text": [
            "Digite o 1º número inteiro: 20\n",
            "Digite o 2º número inteiro: 30\n",
            "Digite o 3º número inteiro: 22\n",
            "Digite o 4º número inteiro: 34\n",
            "Digite o 5º número inteiro: 18\n",
            "Digite o 6º número inteiro: 1\n",
            "Digite o 7º número inteiro: 24\n",
            "Digite o 8º número inteiro: 56\n",
            "Digite o 9º número inteiro: 87\n",
            "Digite o 10º número inteiro: 90\n",
            "Lista resultante: [10.0, 15.0, 11.0, 17.0, 9.0, 3, 12.0, 28.0, 261, 45.0]\n"
          ]
        }
      ]
    },
    {
      "cell_type": "code",
      "source": [
        "#4. Solicite ao usuário uma frase. Armazene em uma lista cada palavra que começa com uma vogal. Exiba a lista resultante.\n",
        "frase = input(\"Digite uma frase: \")\n",
        "vogais = \"aeiouAEIOU\"\n",
        "palavras = frase.split()\n",
        "palavras_com_vogal = [palavra for palavra in palavras if palavra[0] in vogais]\n",
        "print(\"Palavras que começam com vogal:\", palavras_com_vogal)\n"
      ],
      "metadata": {
        "id": "7ikoUnYrZtdy",
        "colab": {
          "base_uri": "https://localhost:8080/"
        },
        "outputId": "984338bc-86e9-4fef-c84d-f338ba648ab8"
      },
      "execution_count": null,
      "outputs": [
        {
          "output_type": "stream",
          "name": "stdout",
          "text": [
            "Digite uma frase: abelha\n",
            "Palavras que começam com vogal: ['abelha']\n"
          ]
        }
      ]
    },
    {
      "cell_type": "code",
      "source": [
        "#5. Leia 10 números inteiros e armazene-os em uma lista. Em seguida, crie uma segunda lista apenas com os números primos da primeira.\n",
        "def eh_primo(n):\n",
        "    if n < 2:\n",
        "        return False\n",
        "    for i in range(2, int(n ** 0.5) + 1):\n",
        "        if n % i == 0:\n",
        "            return False\n",
        "    return True\n",
        "numeros = []\n",
        "for i in range(10):\n",
        "    num = int(input(f\"Digite o {i+1}º número inteiro: \"))\n",
        "    numeros.append(num)\n",
        "primos = [num for num in numeros if eh_primo(num)]\n",
        "print(\"Números primos na lista:\", primos)"
      ],
      "metadata": {
        "id": "RSnv7U3DZvzC",
        "colab": {
          "base_uri": "https://localhost:8080/"
        },
        "outputId": "acff2fbf-6676-4f61-ea53-90cf89a1b541"
      },
      "execution_count": null,
      "outputs": [
        {
          "output_type": "stream",
          "name": "stdout",
          "text": [
            "Digite o 1º número inteiro: 10\n",
            "Digite o 2º número inteiro: 20\n",
            "Digite o 3º número inteiro: 30\n",
            "Digite o 4º número inteiro: 70\n",
            "Digite o 5º número inteiro: 80\n",
            "Digite o 6º número inteiro: 50\n",
            "Digite o 7º número inteiro: 60\n",
            "Digite o 8º número inteiro: 40\n",
            "Digite o 9º número inteiro: 90\n",
            "Digite o 10º número inteiro: 100\n",
            "Números primos na lista: []\n"
          ]
        }
      ]
    },
    {
      "cell_type": "code",
      "source": [
        "#6. Escreva um programa que leia uma lista de 8 elementos e verifique se ela é palíndroma (lê-se igual de trás para frente).\n",
        "lista = []\n",
        "for i in range(8):\n",
        "    elemento = input(f\"Digite o {i+1}º elemento: \")\n",
        "    lista.append(elemento)\n",
        "if lista == lista[::-1]:\n",
        "    print(\"A lista é palíndroma.\")\n",
        "else:\n",
        "    print(\"A lista não é palíndroma.\")"
      ],
      "metadata": {
        "id": "o4AwOak3Zx1i",
        "colab": {
          "base_uri": "https://localhost:8080/"
        },
        "outputId": "03d035aa-d519-400d-e96a-a9becbafe5dc"
      },
      "execution_count": null,
      "outputs": [
        {
          "output_type": "stream",
          "name": "stdout",
          "text": [
            "Digite o 1º elemento: mato\n",
            "Digite o 2º elemento: fazenda\n",
            "Digite o 3º elemento: galinha\n",
            "Digite o 4º elemento: ovo\n",
            "Digite o 5º elemento: humano\n",
            "Digite o 6º elemento: bicho\n",
            "Digite o 7º elemento: animal\n",
            "Digite o 8º elemento: cachorro\n",
            "A lista não é palíndroma.\n"
          ]
        }
      ]
    },
    {
      "cell_type": "code",
      "source": [
        "#7. Crie duas listas com 10 números inteiros aleatórios entre 1 e 100. Gere uma terceira lista contendo apenas os elementos que estão presentes em ambas (interseção).\n",
        "import random\n",
        "lista1 = random.sample(range(1, 101), 10)\n",
        "lista2 = random.sample(range(1, 101), 10)\n",
        "intersecao = [num for num in lista1 if num in lista2]\n",
        "print(\"Lista 1:\", lista1)\n",
        "print(\"Lista 2:\", lista2)\n",
        "print(\"Interseção:\", intersecao)"
      ],
      "metadata": {
        "id": "KOd8z7daZ0BK",
        "colab": {
          "base_uri": "https://localhost:8080/"
        },
        "outputId": "71600651-3e07-4e7b-de07-f19b18953402"
      },
      "execution_count": null,
      "outputs": [
        {
          "output_type": "stream",
          "name": "stdout",
          "text": [
            "Lista 1: [17, 16, 8, 34, 43, 55, 93, 78, 39, 26]\n",
            "Lista 2: [18, 50, 24, 2, 59, 9, 71, 44, 62, 35]\n",
            "Interseção: []\n"
          ]
        }
      ]
    },
    {
      "cell_type": "code",
      "source": [
        "#8. Faça um programa que simule o sorteio de 6 números da Mega-Sena (entre 1 e 60) sem repetição. Armazene em uma lista e exiba.\n",
        "import random\n",
        "sorteio = sorted(random.sample(range(1, 61), 6))\n",
        "print(\"Números sorteados:\", sorteio)"
      ],
      "metadata": {
        "id": "qhOaViWOZ4fK",
        "colab": {
          "base_uri": "https://localhost:8080/"
        },
        "outputId": "9b633383-14f7-4cdd-e306-7dbf903d2940"
      },
      "execution_count": null,
      "outputs": [
        {
          "output_type": "stream",
          "name": "stdout",
          "text": [
            "Números sorteados: [21, 23, 29, 33, 46, 57]\n"
          ]
        }
      ]
    },
    {
      "cell_type": "code",
      "source": [
        "#9. Solicite ao usuário uma lista de 10 números. Crie uma nova lista onde cada elemento é o somatório de todos os elementos anteriores da lista original.\n",
        "numeros = []\n",
        "for i in range(10):\n",
        "    num = int(input(f\"Digite o {i+1}º número: \"))\n",
        "    numeros.append(num)\n",
        "soma_acumulada = []\n",
        "total = 0\n",
        "for num in numeros:\n",
        "    total += num\n",
        "    soma_acumulada.append(total)\n",
        "print(\"Lista original:\", numeros)\n",
        "print(\"Lista com somatório acumulado:\", soma_acumulada)"
      ],
      "metadata": {
        "id": "jk5-ypMKZ655",
        "colab": {
          "base_uri": "https://localhost:8080/"
        },
        "outputId": "478b5d45-99f5-4e2d-f316-f3c043486cf7"
      },
      "execution_count": null,
      "outputs": [
        {
          "output_type": "stream",
          "name": "stdout",
          "text": [
            "Digite o 1º número: 200\n",
            "Digite o 2º número: 300\n",
            "Digite o 3º número: 50\n",
            "Digite o 4º número: 60\n",
            "Digite o 5º número: 90\n",
            "Digite o 6º número: 40\n",
            "Digite o 7º número: 800\n",
            "Digite o 8º número: 70\n",
            "Digite o 9º número: 100\n",
            "Digite o 10º número: 50\n",
            "Lista original: [200, 300, 50, 60, 90, 40, 800, 70, 100, 50]\n",
            "Lista com somatório acumulado: [200, 500, 550, 610, 700, 740, 1540, 1610, 1710, 1760]\n"
          ]
        }
      ]
    },
    {
      "cell_type": "code",
      "source": [
        "#10. Implemente uma lista de nomes e remova todos que tenham mais de 10 caracteres.\n",
        "nomes = [\"Isadora\", \"Bernardo\", \"Carolina\", \"Diego\", \"Eduardo\", \"Fernanda\", \"Gabriel\", \"Helena\", \"Ana\", \"Jonathan\"]\n",
        "nomes_filtrados = [nome for nome in nomes if len(nome) <= 10]\n",
        "print(\"Lista original:\", nomes)\n",
        "print(\"Nomes com até 10 caracteres:\", nomes_filtrados)"
      ],
      "metadata": {
        "id": "o4nKRazpZ_4p",
        "colab": {
          "base_uri": "https://localhost:8080/"
        },
        "outputId": "bda29adc-3489-4cbf-b7f6-50fcc33b2d96"
      },
      "execution_count": null,
      "outputs": [
        {
          "output_type": "stream",
          "name": "stdout",
          "text": [
            "Lista original: ['Isadora', 'Bernardo', 'Carolina', 'Diego', 'Eduardo', 'Fernanda', 'Gabriel', 'Helena', 'Ana', 'Jonathan']\n",
            "Nomes com até 10 caracteres: ['Isadora', 'Bernardo', 'Carolina', 'Diego', 'Eduardo', 'Fernanda', 'Gabriel', 'Helena', 'Ana', 'Jonathan']\n"
          ]
        }
      ]
    },
    {
      "cell_type": "code",
      "source": [
        "#11. Crie uma matriz 4x4 com valores fornecidos pelo usuário. Exiba a soma dos elementos da diagonal secundária.\n",
        "matriz = []\n",
        "print(\"Digite os valores da matriz 4x4:\")\n",
        "for i in range(4):\n",
        "    linha = []\n",
        "    for j in range(4):\n",
        "        val = int(input(f\"Elemento [{i}][{j}]: \"))\n",
        "        linha.append(val)\n",
        "    matriz.append(linha)\n",
        "soma_diagonal_secundaria = 0\n",
        "for i in range(4):\n",
        "    soma_diagonal_secundaria += matriz[i][3 - i]\n",
        "print(\"Soma da diagonal secundária:\", soma_diagonal_secundaria)\n"
      ],
      "metadata": {
        "id": "hrmOOGBzaDjK",
        "colab": {
          "base_uri": "https://localhost:8080/"
        },
        "outputId": "907537f8-bd80-45bf-9691-8f17340ab0a6"
      },
      "execution_count": null,
      "outputs": [
        {
          "output_type": "stream",
          "name": "stdout",
          "text": [
            "Digite os valores da matriz 4x4:\n",
            "Elemento [0][0]: 10\n",
            "Elemento [0][1]: 30\n",
            "Elemento [0][2]: 50\n",
            "Elemento [0][3]: 60\n",
            "Elemento [1][0]: 800\n",
            "Elemento [1][1]: 40\n",
            "Elemento [1][2]: 90\n",
            "Elemento [1][3]: 70\n",
            "Elemento [2][0]: 50\n",
            "Elemento [2][1]: 30\n",
            "Elemento [2][2]: 10\n",
            "Elemento [2][3]: 40\n",
            "Elemento [3][0]: 100\n",
            "Elemento [3][1]: 30\n",
            "Elemento [3][2]: 60\n",
            "Elemento [3][3]: 90\n",
            "Soma da diagonal secundária: 280\n"
          ]
        }
      ]
    },
    {
      "cell_type": "code",
      "source": [
        "#12. Gere uma matriz 5x5 com números aleatórios entre 1 e 99. Em seguida, calcule a média dos elementos de cada linha e armazene os resultados em uma nova lista.\n",
        "import random\n",
        "matriz = [[random.randint(1, 99) for _ in range(5)] for _ in range(5)]\n",
        "print(\"Matriz 5x5:\")\n",
        "for linha in matriz:\n",
        "    print(linha)\n",
        "medias = []\n",
        "for linha in matriz:\n",
        "    media = sum(linha) / len(linha)\n",
        "    medias.append(media)\n",
        "print(\"Médias de cada linha:\", medias)"
      ],
      "metadata": {
        "id": "c7md_6HyaH0R",
        "colab": {
          "base_uri": "https://localhost:8080/"
        },
        "outputId": "527e02eb-38e2-4d3c-92b6-b48f7df55ec1"
      },
      "execution_count": null,
      "outputs": [
        {
          "output_type": "stream",
          "name": "stdout",
          "text": [
            "Matriz 5x5:\n",
            "[7, 11, 58, 39, 38]\n",
            "[86, 86, 5, 30, 35]\n",
            "[8, 70, 40, 49, 44]\n",
            "[11, 4, 62, 80, 99]\n",
            "[30, 8, 18, 19, 58]\n",
            "Médias de cada linha: [30.6, 48.4, 42.2, 51.2, 26.6]\n"
          ]
        }
      ]
    },
    {
      "cell_type": "code",
      "source": [
        "#13. Solicite uma matriz 3x3 preenchida pelo usuário. Verifique se ela é uma matriz identidade.\n",
        "matriz = []\n",
        "print(\"Digite os valores da matriz 3x3:\")\n",
        "for i in range(3):\n",
        "    linha = []\n",
        "    for j in range(3):\n",
        "        val = int(input(f\"Elemento [{i}][{j}]: \"))\n",
        "        linha.append(val)\n",
        "    matriz.append(linha)\n",
        "eh_identidade = True\n",
        "for i in range(3):\n",
        "    for j in range(3):\n",
        "        if i == j and matriz[i][j] != 1:\n",
        "            eh_identidade = False\n",
        "        elif i != j and matriz[i][j] != 0:\n",
        "            eh_identidade = False\n",
        "if eh_identidade:\n",
        "    print(\"A matriz é identidade.\")\n",
        "else:\n",
        "    print(\"A matriz não é identidade.\")"
      ],
      "metadata": {
        "id": "mtr5uDyYaJTi",
        "colab": {
          "base_uri": "https://localhost:8080/"
        },
        "outputId": "e5d8f47b-6a34-41eb-edbf-b4aa4ee9867c"
      },
      "execution_count": null,
      "outputs": [
        {
          "output_type": "stream",
          "name": "stdout",
          "text": [
            "Digite os valores da matriz 3x3:\n",
            "Elemento [0][0]: 10\n",
            "Elemento [0][1]: 20\n",
            "Elemento [0][2]: 30\n",
            "Elemento [1][0]: 60\n",
            "Elemento [1][1]: 90\n",
            "Elemento [1][2]: 80\n",
            "Elemento [2][0]: 50\n",
            "Elemento [2][1]: 20\n",
            "Elemento [2][2]: 70\n",
            "A matriz não é identidade.\n"
          ]
        }
      ]
    },
    {
      "cell_type": "code",
      "source": [
        "#14. Faça um programa que leia uma matriz 3x3 e verifique se ela é simétrica (igual à sua transposta).\n",
        "matriz = []\n",
        "print(\"Digite os valores da matriz 3x3:\")\n",
        "for i in range(3):\n",
        "    linha = []\n",
        "    for j in range(3):\n",
        "        val = int(input(f\"Elemento [{i}][{j}]: \"))\n",
        "        linha.append(val)\n",
        "    matriz.append(linha)\n",
        "eh_simetrica = True\n",
        "for i in range(3):\n",
        "    for j in range(3):\n",
        "        if matriz[i][j] != matriz[j][i]:\n",
        "            eh_simetrica = False\n",
        "            break\n",
        "    if not eh_simetrica:\n",
        "        break\n",
        "if eh_simetrica:\n",
        "    print(\"A matriz é simétrica.\")\n",
        "else:\n",
        "    print(\"A matriz não é simétrica.\")"
      ],
      "metadata": {
        "id": "FmabiuJKaM4z",
        "colab": {
          "base_uri": "https://localhost:8080/"
        },
        "outputId": "398f38e0-d797-4ba2-c851-13949e79d54a"
      },
      "execution_count": null,
      "outputs": [
        {
          "output_type": "stream",
          "name": "stdout",
          "text": [
            "Digite os valores da matriz 3x3:\n",
            "Elemento [0][0]: 1\n",
            "Elemento [0][1]: 2\n",
            "Elemento [0][2]: 7\n",
            "Elemento [1][0]: 8\n",
            "Elemento [1][1]: 4\n",
            "Elemento [1][2]: 5\n",
            "Elemento [2][0]: 3\n",
            "Elemento [2][1]: 6\n",
            "Elemento [2][2]: 9\n",
            "A matriz não é simétrica.\n"
          ]
        }
      ]
    },
    {
      "cell_type": "code",
      "source": [
        "#15. Crie uma matriz 5x3 onde cada elemento é igual ao produto de sua linha pelo valor da coluna. Exiba a matriz completa\n",
        "matriz = []\n",
        "for i in range(5):\n",
        "    linha = []\n",
        "    for j in range(3):\n",
        "        linha.append(i * j)\n",
        "    matriz.append(linha)\n",
        "print(\"Matriz 5x3 (elemento = linha * coluna):\")\n",
        "for linha in matriz:\n",
        "    print(linha)"
      ],
      "metadata": {
        "colab": {
          "base_uri": "https://localhost:8080/"
        },
        "id": "PEG1QMZmaT6l",
        "outputId": "23af5c92-3d5a-41c2-d7ed-f01db083286e"
      },
      "execution_count": null,
      "outputs": [
        {
          "output_type": "stream",
          "name": "stdout",
          "text": [
            "Matriz 5x3 (elemento = linha * coluna):\n",
            "[0, 0, 0]\n",
            "[0, 1, 2]\n",
            "[0, 2, 4]\n",
            "[0, 3, 6]\n",
            "[0, 4, 8]\n"
          ]
        }
      ]
    },
    {
      "cell_type": "code",
      "source": [
        "#15. Crie uma matriz 5x3 onde cada elemento é igual ao produto de sua linha pelo valor da coluna. Exiba a matriz completa.\n",
        "linhas = 5\n",
        "colunas = 3\n",
        "matriz = []\n",
        "for i in range(1, linhas + 1):\n",
        "    linha = []\n",
        "    for j in range(1, colunas + 1):\n",
        "        linha.append(i * j)\n",
        "    matriz.append(linha)\n",
        "for linha in matriz:\n",
        "    print(linha)"
      ],
      "metadata": {
        "id": "m4nCNb79fAhn",
        "colab": {
          "base_uri": "https://localhost:8080/"
        },
        "outputId": "90e76d77-d12e-473b-88d9-e9f3e3784572"
      },
      "execution_count": null,
      "outputs": [
        {
          "output_type": "stream",
          "name": "stdout",
          "text": [
            "[1, 2, 3]\n",
            "[2, 4, 6]\n",
            "[3, 6, 9]\n",
            "[4, 8, 12]\n",
            "[5, 10, 15]\n"
          ]
        }
      ]
    },
    {
      "cell_type": "code",
      "source": [
        "#16. Crie uma matriz 4x4 com números fornecidos pelo usuário. Encontre o menor valor de cada coluna e armazene em uma lista separada.\n",
        "matriz = []\n",
        "print(\"Digite os números para preencher a matriz 4x4:\")\n",
        "for i in range(4):\n",
        "    linha = []\n",
        "    for j in range(4):\n",
        "        numero = int(input(f\"Elemento [{i}][{j}]: \"))\n",
        "        linha.append(numero)\n",
        "    matriz.append(linha)\n",
        "print(\"Matriz 4x4:\")\n",
        "for linha in matriz:\n",
        "    print(linha)\n",
        "menores_colunas = []\n",
        "for j in range(4):\n",
        "    menor = matriz[0][j]\n",
        "    for i in range(1, 4):\n",
        "        if matriz[i][j] < menor:\n",
        "            menor = matriz[i][j]\n",
        "    menores_colunas.append(menor)\n",
        "\n",
        "print(\"Menor valor de cada coluna:\")\n",
        "print(menores_colunas)\n"
      ],
      "metadata": {
        "colab": {
          "base_uri": "https://localhost:8080/"
        },
        "id": "4nv5qVOsnqNr",
        "outputId": "23bc86cb-009e-4dd3-dd69-375f13391aaf"
      },
      "execution_count": null,
      "outputs": [
        {
          "output_type": "stream",
          "name": "stdout",
          "text": [
            "Digite os números para preencher a matriz 4x4:\n",
            "Elemento [0][0]: 1\n",
            "Elemento [0][1]: 3\n",
            "Elemento [0][2]: 6\n",
            "Elemento [0][3]: 5\n",
            "Elemento [1][0]: 8\n",
            "Elemento [1][1]: 4\n",
            "Elemento [1][2]: 9\n",
            "Elemento [1][3]: 3\n",
            "Elemento [2][0]: 7\n",
            "Elemento [2][1]: 4\n",
            "Elemento [2][2]: 6\n",
            "Elemento [2][3]: 8\n",
            "Elemento [3][0]: 2\n",
            "Elemento [3][1]: 1\n",
            "Elemento [3][2]: 3\n",
            "Elemento [3][3]: 9\n",
            "Matriz 4x4:\n",
            "[1, 3, 6, 5]\n",
            "[8, 4, 9, 3]\n",
            "[7, 4, 6, 8]\n",
            "[2, 1, 3, 9]\n",
            "Menor valor de cada coluna:\n",
            "[1, 1, 3, 3]\n"
          ]
        }
      ]
    },
    {
      "cell_type": "code",
      "source": [
        "#17. Dada uma matriz 3x3 com valores reais, calcule o determinante (sem usar bibliotecas externas).\n",
        "matriz = []\n",
        "print(\"Digite os valores da matriz 3x3 (valores reais):\")\n",
        "for i in range(3):\n",
        "    linha = []\n",
        "    for j in range(3):\n",
        "        valor = float(input(f\"Elemento [{i}][{j}]: \"))\n",
        "        linha.append(valor)\n",
        "    matriz.append(linha)\n",
        "\n",
        "a = matriz[0][0]\n",
        "b = matriz[0][1]\n",
        "c = matriz[0][2]\n",
        "d = matriz[1][0]\n",
        "e = matriz[1][1]\n",
        "f = matriz[1][2]\n",
        "g = matriz[2][0]\n",
        "h = matriz[2][1]\n",
        "i = matriz[2][2]\n",
        "\n",
        "print(\"Determinante:\", a*(e*i - f*h) - b*(d*i - f*g) + c*(d*h - e*g))\n"
      ],
      "metadata": {
        "id": "ufpFvqeLfr56",
        "colab": {
          "base_uri": "https://localhost:8080/"
        },
        "outputId": "971ffcce-d25e-4dc5-f862-71d397682866"
      },
      "execution_count": null,
      "outputs": [
        {
          "output_type": "stream",
          "name": "stdout",
          "text": [
            "Digite os valores da matriz 3x3 (valores reais):\n",
            "Elemento [0][0]: 1\n",
            "Elemento [0][1]: 2\n",
            "Elemento [0][2]: 3\n",
            "Elemento [1][0]: 0\n",
            "Elemento [1][1]: 4\n",
            "Elemento [1][2]: 5\n",
            "Elemento [2][0]: 1\n",
            "Elemento [2][1]: 0\n",
            "Elemento [2][2]: 6\n",
            "Determinante: 22.0\n"
          ]
        }
      ]
    },
    {
      "cell_type": "code",
      "source": [
        "#18. Faça um programa que leia duas matrizes 3x3 e calcule a matriz soma e diferente.\n",
        "\n",
        "matriz1 = []\n",
        "print(\"Digite os valores da matriz A (3x3):\")\n",
        "for i in range(3):\n",
        "    linha = []\n",
        "    for j in range(3):\n",
        "        valor = float(input(f\"Elemento [{i}][{j}]: \"))\n",
        "        linha.append(valor)\n",
        "    matriz1.append(linha)\n",
        "\n",
        "matriz2 = []\n",
        "print(\"Digite os valores da matriz B (3x3):\")\n",
        "for i in range(3):\n",
        "    linha = []\n",
        "    for j in range(3):\n",
        "        valor = float(input(f\"Elemento [{i}][{j}]: \"))\n",
        "        linha.append(valor)\n",
        "    matriz2.append(linha)\n",
        "\n",
        "\n",
        "soma = []\n",
        "diferenca = []\n",
        "for i in range(3):\n",
        "    soma.append([])\n",
        "    diferenca.append([])\n",
        "    for j in range(3):\n",
        "        soma[i].append(matriz1[i][j] + matriz2[i][j])\n",
        "        diferenca[i].append(matriz1[i][j] - matriz2[i][j])\n",
        "\n",
        "\n",
        "print(\"Matriz Soma:\")\n",
        "for linha in soma:\n",
        "    print(linha)\n",
        "\n",
        "print(\"Matriz Diferença:\")\n",
        "for linha in diferenca:\n",
        "    print(linha)\n",
        "\n"
      ],
      "metadata": {
        "id": "gF-T7d9lfsAz",
        "colab": {
          "base_uri": "https://localhost:8080/"
        },
        "outputId": "20d74031-3b6e-4c5c-f6bc-a0d0efef93c3"
      },
      "execution_count": null,
      "outputs": [
        {
          "output_type": "stream",
          "name": "stdout",
          "text": [
            "Digite os valores da matriz A (3x3):\n",
            "Elemento [0][0]: 1\n",
            "Elemento [0][1]: 2\n",
            "Elemento [0][2]: 3\n",
            "Elemento [1][0]: 4\n",
            "Elemento [1][1]: 5\n",
            "Elemento [1][2]: 6\n",
            "Elemento [2][0]: 7\n",
            "Elemento [2][1]: 8\n",
            "Elemento [2][2]: 9\n",
            "Digite os valores da matriz B (3x3):\n",
            "Elemento [0][0]: 9\n",
            "Elemento [0][1]: 8\n",
            "Elemento [0][2]: 7\n",
            "Elemento [1][0]: 6\n",
            "Elemento [1][1]: 5\n",
            "Elemento [1][2]: 4\n",
            "Elemento [2][0]: 3\n",
            "Elemento [2][1]: 2\n",
            "Elemento [2][2]: 1\n",
            "Matriz Soma:\n",
            "[10.0, 10.0, 10.0]\n",
            "[10.0, 10.0, 10.0]\n",
            "[10.0, 10.0, 10.0]\n",
            "Matriz Diferença:\n",
            "[-8.0, -6.0, -4.0]\n",
            "[-2.0, 0.0, 2.0]\n",
            "[4.0, 6.0, 8.0]\n"
          ]
        }
      ]
    },
    {
      "cell_type": "code",
      "source": [
        "#19. Solicite dois conjuntos de 10 elementos fornecidos pelo usuário. Mostre a interseção, união e diferença (A - B e B - A).\n",
        "print(\"Digite 10 elementos do conjunto A:\")\n",
        "A = set()\n",
        "while len(A) < 10:\n",
        "    v = input()\n",
        "    A.add(v)\n",
        "\n",
        "print(\"Digite 10 elementos do conjunto B:\")\n",
        "B = set()\n",
        "while len(B) < 10:\n",
        "    v = input()\n",
        "    B.add(v)\n",
        "\n",
        "print(A & B)\n",
        "print(A | B)\n",
        "print(A - B)\n",
        "print(B - A)\n"
      ],
      "metadata": {
        "id": "eOuZkZVmfsEq",
        "colab": {
          "base_uri": "https://localhost:8080/"
        },
        "outputId": "f98dcb2b-8c0d-4549-df93-f67ef998da63"
      },
      "execution_count": null,
      "outputs": [
        {
          "output_type": "stream",
          "name": "stdout",
          "text": [
            "Digite 10 elementos do conjunto A:\n",
            "a\n",
            "b\n",
            "c\n",
            "d\n",
            "e\n",
            "f\n",
            "g\n",
            "h\n",
            "i\n",
            "j\n",
            "Digite 10 elementos do conjunto B:\n",
            "e\n",
            "f\n",
            "g\n",
            "h\n",
            "i\n",
            "j\n",
            "k\n",
            "l\n",
            "m\n",
            "n\n",
            "{'e', 'i', 'j', 'f', 'g', 'h'}\n",
            "{'k', 'e', 'i', 'j', 'g', 'm', 'c', 'b', 'd', 'f', 'l', 'n', 'h', 'a'}\n",
            "{'b', 'a', 'd', 'c'}\n",
            "{'l', 'k', 'n', 'm'}\n"
          ]
        }
      ]
    },
    {
      "cell_type": "code",
      "source": [
        "#20. Crie um conjunto com todas as letras usadas em uma frase digitada pelo usuário, excluindo espaços e pontuação.\n",
        "frase = input(\"Digite uma frase: \")\n",
        "conjunto = set()\n",
        "alfabeto = \"abcdefghijklmnopqrstuvwxyzABCDEFGHIJKLMNOPQRSTUVWXYZ\"\n",
        "\n",
        "for letra in frase:\n",
        "    if letra in alfabeto:\n",
        "        conjunto.add(letra)\n",
        "\n",
        "print(conjunto)\n"
      ],
      "metadata": {
        "id": "pk8_L1iGfsIa",
        "colab": {
          "base_uri": "https://localhost:8080/"
        },
        "outputId": "33339476-350c-401c-842f-1ab6ae51ba76"
      },
      "execution_count": null,
      "outputs": [
        {
          "output_type": "stream",
          "name": "stdout",
          "text": [
            "Digite uma frase: oi tudo bem\n",
            "{'t', 'o', 'e', 'u', 'i', 'm', 'b', 'd'}\n"
          ]
        }
      ]
    },
    {
      "cell_type": "code",
      "source": [
        "#21. Escreva um programa que armazene em um conjunto todos os números entre 1 e 100 que não são múltiplos de 2 nem de 3.\n",
        "numeros = set()\n",
        "for num in range(1, 101):\n",
        "    if num % 2 != 0 and num % 3 != 0:\n",
        "        numeros.add(num)\n",
        "print(\"Números entre 1 e 100 que não são múltiplos de 2 nem de 3:\")\n",
        "print(sorted(numeros))"
      ],
      "metadata": {
        "id": "t_kuA5wUfsMk",
        "colab": {
          "base_uri": "https://localhost:8080/"
        },
        "outputId": "f15cc4f2-0262-4678-91e9-a2f167703cec"
      },
      "execution_count": null,
      "outputs": [
        {
          "output_type": "stream",
          "name": "stdout",
          "text": [
            "Números entre 1 e 100 que não são múltiplos de 2 nem de 3:\n",
            "[1, 5, 7, 11, 13, 17, 19, 23, 25, 29, 31, 35, 37, 41, 43, 47, 49, 53, 55, 59, 61, 65, 67, 71, 73, 77, 79, 83, 85, 89, 91, 95, 97]\n"
          ]
        }
      ]
    },
    {
      "cell_type": "code",
      "source": [
        "#22. Solicite ao usuário que digite 10 palavras. Armazene em um conjunto todas as palavras distintas com mais de 5 letras.\n",
        "palavras = set()\n",
        "for i in range(10):\n",
        "    palavra = input(f\"Digite a {i+1}ª palavra: \")\n",
        "    if len(palavra) > 5:\n",
        "        palavras.add(palavra)\n",
        "print(\"Palavras distintas com mais de 5 letras:\")\n",
        "print(palavras)"
      ],
      "metadata": {
        "id": "yhrDMshLgRWP",
        "colab": {
          "base_uri": "https://localhost:8080/"
        },
        "outputId": "0d5703d0-ebe6-44cb-9bd6-012a7c1aa17c"
      },
      "execution_count": null,
      "outputs": [
        {
          "output_type": "stream",
          "name": "stdout",
          "text": [
            "Digite a 1ª palavra: banana\n",
            "Digite a 2ª palavra: sol\n",
            "Digite a 3ª palavra: computador\n",
            "Digite a 4ª palavra: rio\n",
            "Digite a 5ª palavra: felicidade\n",
            "Digite a 6ª palavra: amor\n",
            "Digite a 7ª palavra: carro\n",
            "Digite a 8ª palavra: estrela\n",
            "Digite a 9ª palavra: bola\n",
            "Digite a 10ª palavra: cama\n",
            "Palavras distintas com mais de 5 letras:\n",
            "{'banana', 'computador', 'estrela', 'felicidade'}\n"
          ]
        }
      ]
    },
    {
      "cell_type": "code",
      "source": [
        "#23. Leia dois conjuntos de inteiros. Verifique se um é subconjunto do outro.\n",
        "conjunto1 = tuple(map(int, input(\"Digite os elementos do primeiro conjunto separados por espaço: \").split()))\n",
        "conjunto2 = tuple(map(int, input(\"Digite os elementos do segundo conjunto separados por espaço: \").split()))\n",
        "\n",
        "\n",
        "def tupla_para_conjunto(tupla):\n",
        "    return {item: True for item in tupla}\n",
        "\n",
        "dicionario1 = tupla_para_conjunto(conjunto1)\n",
        "dicionario2 = tupla_para_conjunto(conjunto2)\n",
        "\n",
        "\n",
        "\n",
        "def eh_subconjunto(dicionario_a, dicionario_b):\n",
        "    for chave in dicionario_a:\n",
        "        if chave not in dicionario_b:\n",
        "            return False\n",
        "    return True\n",
        "\n",
        "\n",
        "if eh_subconjunto(dicionario1, dicionario2):\n",
        "    print(\"O primeiro conjunto é subconjunto do segundo.\")\n",
        "elif eh_subconjunto(dicionario2, dicionario1):\n",
        "    print(\"O segundo conjunto é subconjunto do primeiro.\")\n",
        "else:\n",
        "    print(\"Nenhum dos conjuntos é subconjunto do outro.\")\n"
      ],
      "metadata": {
        "id": "aTgJ7lXNgRdo",
        "colab": {
          "base_uri": "https://localhost:8080/"
        },
        "outputId": "72adba4d-660b-4b44-d1cb-0f50918088f0"
      },
      "execution_count": null,
      "outputs": [
        {
          "output_type": "stream",
          "name": "stdout",
          "text": [
            "Digite os elementos do primeiro conjunto separados por espaço: 1 2 3 \n",
            "Digite os elementos do segundo conjunto separados por espaço: 1 2 3 4 5 \n",
            "O primeiro conjunto é subconjunto do segundo.\n"
          ]
        }
      ]
    },
    {
      "cell_type": "code",
      "source": [
        "#24. Dado um conjunto de números inteiros, crie um novo conjunto com apenas os quadrados perfeitos encontrados.\n",
        "import math\n",
        "\n",
        "numeros = set(map(int, input().split()))\n",
        "quadrados = {n for n in numeros if n >= 0 and math.isqrt(n) ** 2 == n}\n",
        "\n",
        "print(quadrados)\n"
      ],
      "metadata": {
        "id": "oTJeACSagRjP",
        "colab": {
          "base_uri": "https://localhost:8080/"
        },
        "outputId": "4edd19b9-709b-41b2-85de-f3b31df5c2d8"
      },
      "execution_count": null,
      "outputs": [
        {
          "output_type": "stream",
          "name": "stdout",
          "text": [
            "1 2 3 4 9 10 16 25 30\n",
            "{1, 4, 9, 16, 25}\n"
          ]
        }
      ]
    },
    {
      "cell_type": "code",
      "source": [
        "#25. Crie um dicionário que armazene o nome e o salário de 5 funcionários. Calcule o reajuste de 10% para salários inferiores a R$ 2.000 e atualize o dicionário.\n",
        "funcionarios = {}\n",
        "\n",
        "\n",
        "for _ in range(5):\n",
        "    nome = input(\"Nome do funcionário: \")\n",
        "    salario = float(input(\"Salário: \"))\n",
        "    funcionarios[nome] = salario\n",
        "\n",
        "\n",
        "for nome, salario in funcionarios.items():\n",
        "    if salario < 2000:\n",
        "        funcionarios[nome] = salario * 1.10\n",
        "\n",
        "\n",
        "print(\"\\nSalários atualizados:\")\n",
        "for nome, salario in funcionarios.items():\n",
        "    print(f\"{nome}: R$ {salario:.2f}\")\n"
      ],
      "metadata": {
        "id": "1yHDuIqGgRru",
        "colab": {
          "base_uri": "https://localhost:8080/"
        },
        "outputId": "9faa20e0-9ac5-4efa-9f43-8a50cee6c4dc"
      },
      "execution_count": null,
      "outputs": [
        {
          "output_type": "stream",
          "name": "stdout",
          "text": [
            "Nome do funcionário: leticia\n",
            "Salário: 2000\n",
            "Nome do funcionário: ana clara\n",
            "Salário: 1500\n",
            "Nome do funcionário: pedro\n",
            "Salário: 2500\n",
            "Nome do funcionário: kevin\n",
            "Salário: 3000\n",
            "Nome do funcionário: paula\n",
            "Salário: 1900\n",
            "\n",
            "Salários atualizados:\n",
            "leticia: R$ 2000.00\n",
            "ana clara: R$ 1650.00\n",
            "pedro: R$ 2500.00\n",
            "kevin: R$ 3000.00\n",
            "paula: R$ 2090.00\n"
          ]
        }
      ]
    },
    {
      "cell_type": "code",
      "source": [
        "#26. Faça um programa que armazene em um dicionário o nome de 5 alunos e uma lista com suas 3 notas. Depois, exiba o nome e a média de cada aluno.\n",
        "alunos = {}\n",
        "\n",
        "for _ in range(5):\n",
        "    nome = input(\"Nome do aluno: \")\n",
        "    n1 = float(input(\"Nota 1: \"))\n",
        "    n2 = float(input(\"Nota 2: \"))\n",
        "    n3 = float(input(\"Nota 3: \"))\n",
        "    alunos[nome] = (n1, n2, n3)\n",
        "\n",
        "for nome, notas in alunos.items():\n",
        "    media = sum(notas) / 3\n",
        "    print(f\"{nome}: {media:.2f}\")\n",
        "\n"
      ],
      "metadata": {
        "id": "5voq4dTugRwG",
        "colab": {
          "base_uri": "https://localhost:8080/"
        },
        "outputId": "a3de45cd-ae4b-46f0-e5d5-23d7ce158076"
      },
      "execution_count": null,
      "outputs": [
        {
          "output_type": "stream",
          "name": "stdout",
          "text": [
            "Nome do aluno: luca\n",
            "Nota 1: 6\n",
            "Nota 2: 7\n",
            "Nota 3: 8\n",
            "Nome do aluno: carol\n",
            "Nota 1: 9\n",
            "Nota 2: 8\n",
            "Nota 3: 10\n",
            "Nome do aluno: joaquim\n",
            "Nota 1: 5\n",
            "Nota 2: 6\n",
            "Nota 3: 7\n",
            "Nome do aluno: maria\n",
            "Nota 1: 8\n",
            "Nota 2: 7\n",
            "Nota 3: 9\n",
            "Nome do aluno: livia\n",
            "Nota 1: 10\n",
            "Nota 2: 10\n",
            "Nota 3: 6\n",
            "luca: 7.00\n",
            "carol: 9.00\n",
            "joaquim: 6.00\n",
            "maria: 8.00\n",
            "livia: 8.67\n"
          ]
        }
      ]
    },
    {
      "cell_type": "code",
      "source": [
        "#27. Crie um dicionário que armazene palavras e seus sinônimos. Depois, permita que o usuário digite uma palavra e veja seus sinônimos (se existirem).\n",
        "sinonimos = {\"casa\": [\"lar\", \"residência\"],\"carro\": [\"automóvel\", \"veículo\"],\"feliz\": [\"contente\", \"alegre\"]}\n",
        "p = input(\"Palavra: \").lower()\n",
        "print(sinonimos.get(p, [\"Palavra não encontrada\"]))"
      ],
      "metadata": {
        "id": "cnprQJjEgR0u",
        "colab": {
          "base_uri": "https://localhost:8080/"
        },
        "outputId": "9d5ddb1a-8bac-4fab-820a-bd018b873b38"
      },
      "execution_count": null,
      "outputs": [
        {
          "output_type": "stream",
          "name": "stdout",
          "text": [
            "Palavra: carro\n",
            "['automóvel', 'veículo']\n"
          ]
        }
      ]
    },
    {
      "cell_type": "code",
      "source": [
        "#28. Solicite ao usuário 10 palavras e armazene em um dicionário onde a chave é a primeira letra e o valor é uma lista de palavras que começam com essa letra.\n",
        "palavras_por_letra = {}\n",
        "for i in range(10):\n",
        "    palavra = input(f\"Digite a {i+1}ª palavra: \").lower()\n",
        "    primeira_letra = palavra[0]\n",
        "    if primeira_letra not in palavras_por_letra:\n",
        "        palavras_por_letra[primeira_letra] = []\n",
        "    palavras_por_letra[primeira_letra].append(palavra)\n",
        "print(\"Palavras agrupadas por primeira letra:\")\n",
        "for letra, lista in palavras_por_letra.items():\n",
        "    print(f\"{letra}: {lista}\")"
      ],
      "metadata": {
        "id": "2iDxL6wKfsQD",
        "colab": {
          "base_uri": "https://localhost:8080/"
        },
        "outputId": "85b43109-27b1-4903-8472-f9227f204531"
      },
      "execution_count": null,
      "outputs": [
        {
          "output_type": "stream",
          "name": "stdout",
          "text": [
            "Digite a 1ª palavra: apartamento\n",
            "Digite a 2ª palavra: casa\n",
            "Digite a 3ª palavra: seramica\n",
            "Digite a 4ª palavra: gelo\n",
            "Digite a 5ª palavra: amora\n",
            "Digite a 6ª palavra: carro\n",
            "Digite a 7ª palavra: praça\n",
            "Digite a 8ª palavra: bola\n",
            "Digite a 9ª palavra: bolo\n",
            "Digite a 10ª palavra: cenoura\n",
            "Palavras agrupadas por primeira letra:\n",
            "a: ['apartamento', 'amora']\n",
            "c: ['casa', 'carro', 'cenoura']\n",
            "s: ['seramica']\n",
            "g: ['gelo']\n",
            "p: ['praça']\n",
            "b: ['bola', 'bolo']\n"
          ]
        }
      ]
    },
    {
      "cell_type": "code",
      "source": [
        "#29. Crie um dicionário onde as chaves são nomes de produtos e os valores são listas com preços praticados em três lojas diferentes. Encontre o produto com maior variação de preço.\n",
        "produtos = {}\n",
        "\n",
        "\n",
        "for _ in range(5):\n",
        "    nome = input(\"Nome do produto: \")\n",
        "    precos = []\n",
        "    for i in range(1, 4):\n",
        "        preco = float(input(f\"Preço na loja {i}: \"))\n",
        "        precos.append(preco)\n",
        "    produtos[nome] = precos\n",
        "\n",
        "produto_maior_variacao = None\n",
        "maior_variacao = -1\n",
        "\n",
        "for produto, precos in produtos.items():\n",
        "    variacao = max(precos) - min(precos)\n",
        "    if variacao > maior_variacao:\n",
        "        maior_variacao = variacao\n",
        "        produto_maior_variacao = produto\n",
        "\n",
        "print(f\"\\nProduto com maior variação de preço: {produto_maior_variacao}\")\n",
        "print(f\"Variação: R$ {maior_variacao:.2f}\")\n"
      ],
      "metadata": {
        "id": "UY5vrI2DH3QN",
        "colab": {
          "base_uri": "https://localhost:8080/"
        },
        "outputId": "6388c83f-8541-4e58-8f9c-d041480a17b4"
      },
      "execution_count": null,
      "outputs": [
        {
          "output_type": "stream",
          "name": "stdout",
          "text": [
            "Nome do produto: arroz\n",
            "Preço na loja 1: 4.50\n",
            "Preço na loja 2: 4.30\n",
            "Preço na loja 3: 4.80\n",
            "Nome do produto: feijão\n",
            "Preço na loja 1: 7.20\n",
            "Preço na loja 2: 7.50\n",
            "Preço na loja 3: 7.10\n",
            "Nome do produto: macarrão\n",
            "Preço na loja 1: 2.50\n",
            "Preço na loja 2: 2.70\n",
            "Preço na loja 3: 2.55\n",
            "Nome do produto: acuçar\n",
            "Preço na loja 1: 3.80\n",
            "Preço na loja 2: 3.90\n",
            "Preço na loja 3: 3.85\n",
            "Nome do produto: oléo\n",
            "Preço na loja 1: 6.00\n",
            "Preço na loja 2: 6.20\n",
            "Preço na loja 3: 5.90\n",
            "\n",
            "Produto com maior variação de preço: arroz\n",
            "Variação: R$ 0.50\n"
          ]
        }
      ]
    },
    {
      "cell_type": "code",
      "source": [
        "#30. Implemente um programa que leia uma frase e armazene em um dicionário o número de ocorrências de cada palavra (ignorando letras maiúsculas/minúsculas).\n",
        "frase = input(\"Digite uma frase: \").lower()\n",
        "\n",
        "palavras = frase.split()\n",
        "\n",
        "contagem = {}\n",
        "\n",
        "for palavra in palavras:\n",
        "    if palavra in contagem:\n",
        "        contagem[palavra] += 1\n",
        "    else:\n",
        "        contagem[palavra] = 1\n",
        "\n",
        "print(contagem)\n"
      ],
      "metadata": {
        "id": "M-vS8vmEH679",
        "colab": {
          "base_uri": "https://localhost:8080/"
        },
        "outputId": "cc05faa9-e62f-4a02-ca27-fe1e28684066"
      },
      "execution_count": null,
      "outputs": [
        {
          "output_type": "stream",
          "name": "stdout",
          "text": [
            "Digite uma frase: o gato preto e o rato \n",
            "{'o': 2, 'gato': 1, 'preto': 1, 'e': 1, 'rato': 1}\n"
          ]
        }
      ]
    }
  ]
}