{
  "nbformat": 4,
  "nbformat_minor": 0,
  "metadata": {
    "colab": {
      "provenance": [],
      "include_colab_link": true
    },
    "kernelspec": {
      "name": "python3",
      "display_name": "Python 3"
    },
    "language_info": {
      "name": "python"
    }
  },
  "cells": [
    {
      "cell_type": "markdown",
      "metadata": {
        "id": "view-in-github",
        "colab_type": "text"
      },
      "source": [
        "<a href=\"https://colab.research.google.com/github/daianny25/ALGESTDADOS_20251/blob/main/Atividade_avaliativa_02.ipynb\" target=\"_parent\"><img src=\"https://colab.research.google.com/assets/colab-badge.svg\" alt=\"Open In Colab\"/></a>"
      ]
    },
    {
      "cell_type": "markdown",
      "source": [
        "Lista de Exercícios II - Daianny e Thaylaine"
      ],
      "metadata": {
        "id": "KwhFPt65bXKg"
      }
    },
    {
      "cell_type": "code",
      "execution_count": null,
      "metadata": {
        "id": "e8JbLnTu1SRg",
        "colab": {
          "base_uri": "https://localhost:8080/"
        },
        "outputId": "cf75058b-a01c-4ac0-9470-f5a8c7e7d14e"
      },
      "outputs": [
        {
          "output_type": "stream",
          "name": "stdout",
          "text": [
            "Digite a hora de entrada: 9\n",
            "Digite o minuto de entrada: 00\n",
            "digite a hora de saida:18\n",
            "digite o minuto de saida:00\n",
            "O funcionário trabalhou 8 horas e 0 minutos.\n",
            "O funcionário cumpriu uma jornada de pelo menos 8h diárias.\n"
          ]
        }
      ],
      "source": [
        "#01 Crie um algoritmo que receba o horário (hora e minuto) de entrada e saída de um funcionário em um dia de trabalho. Calcule o tempo total trabalhado em horas e minutos, considerando que ele teve uma pausa de 1h para almoço, e diga se ele cumpriu uma jornada de pelo menos 8h diárias.\n",
        "hora_entrada = int(input(\"Digite a hora de entrada: \"))\n",
        "minuto_entrada = int(input(\"Digite o minuto de entrada: \"))\n",
        "hora_saida = int(input(\"digite a hora de saida:\"))\n",
        "minuto_saida = int(input(\"digite o minuto de saida:\"))\n",
        "entrada = hora_entrada * 60 + minuto_entrada\n",
        "saida = hora_saida * 60 + minuto_saida\n",
        "tempo_trabalhado = saida - entrada - 60\n",
        "horas = tempo_trabalhado // 60\n",
        "minutos = tempo_trabalhado % 60\n",
        "print(f\"O funcionário trabalhou {horas} horas e {minutos} minutos.\")\n",
        "if horas >= 8:\n",
        "  print(\"O funcionário cumpriu uma jornada de pelo menos 8h diárias.\")\n",
        "else:\n",
        "  print(\"O funcionário não cumpriu uma jornada de pelo menos 8h diárias.\")"
      ]
    },
    {
      "cell_type": "code",
      "source": [
        "#02 Crie um algoritmo que receba a data de nascimento (dia, mês e ano) de uma pessoa e a data atual, e diga com precisão sua idade em anos, meses e dias. Use condicionais para lidar com casos em que o mês ou dia ainda não tenha sido atingido no ano corrente.\n",
        "from datetime import datetime\n",
        "\n",
        "def calcular_idade(dia_nasc, mes_nasc, ano_nasc):\n",
        "    data_atual = datetime.now()\n",
        "    data_nasc = datetime(ano_nasc, mes_nasc, dia_nasc)\n",
        "    idade_anos = data_atual.year - data_nasc.year\n",
        "    idade_meses = data_atual.month - data_nasc.month\n",
        "    idade_dias = data_atual.day - data_nasc.day\n",
        "\n",
        "    if idade_meses < 0:\n",
        "        idade_anos -= 1\n",
        "        idade_meses += 12\n",
        "\n",
        "    if idade_dias < 0:\n",
        "        idade_meses -= 1\n",
        "        if idade_meses < 0:\n",
        "            idade_anos -= 1\n",
        "            idade_meses += 12\n",
        "        ultimo_mes = data_atual.replace(year=data_atual.year, month=data_atual.month - 1 if data_atual.month > 1 else 12)\n",
        "        idade_dias += (ultimo_mes.replace(day=28) - ultimo_mes).days\n",
        "\n",
        "    return idade_anos, idade_meses, idade_dias\n",
        "\n",
        "def entrada_data():\n",
        "    dia = int(input(\"Digite o dia de nascimento: \"))\n",
        "    mes = int(input(\"Digite o mês de nascimento: \"))\n",
        "    ano = int(input(\"Digite o ano de nascimento: \"))\n",
        "\n",
        "    idade_anos, idade_meses, idade_dias = calcular_idade(dia, mes, ano)\n",
        "\n",
        "    print(f\"Sua idade é {idade_anos} anos, {idade_meses} meses e {idade_dias} dias.\")\n",
        "\n",
        "entrada_data()"
      ],
      "metadata": {
        "id": "cVp3t0n413KR",
        "outputId": "a35cd502-b7bc-4a4b-b058-65921a791a04",
        "colab": {
          "base_uri": "https://localhost:8080/"
        }
      },
      "execution_count": 34,
      "outputs": [
        {
          "output_type": "stream",
          "name": "stdout",
          "text": [
            "Digite o dia de nascimento: 09\n",
            "Digite o mês de nascimento: 09\n",
            "Digite o ano de nascimento: 2003\n",
            "Sua idade é 21 anos, 7 meses e 19 dias.\n"
          ]
        }
      ]
    },
    {
      "cell_type": "code",
      "source": [
        "#03 Elabore um algoritmo que simule um monitor de qualidade do ar. O usuário informará 3 valores de índice de poluentes de diferentes horários de um mesmo dia. O programa deve calcular a média e classificar como \"bom\", \"moderado\", \"ruim\", \"muito ruim\" ou \"péssimo\", com base em faixas fornecidas pelo código.\n",
        "def classificar_qualidade(media):\n",
        "    if media <= 50:\n",
        "        return \"Bom\"\n",
        "    elif media <= 100:\n",
        "        return \"Moderado\"\n",
        "    elif media <= 150:\n",
        "        return \"Ruim\"\n",
        "    elif media <= 200:\n",
        "        return \"Muito Ruim\"\n",
        "    else:\n",
        "        return \"Péssimo\"\n",
        "\n",
        "print(\"Informe os índices de poluentes em três horários do dia:\")\n",
        "indice1 = float(input(\"Índice 1: \"))\n",
        "indice2 = float(input(\"Índice 2: \"))\n",
        "indice3 = float(input(\"Índice 3: \"))\n",
        "\n",
        "media = (indice1 + indice2 + indice3) / 3\n",
        "\n",
        "classificacao = classificar_qualidade(media)\n",
        "\n",
        "print(f\"\\nMédia dos índices: {media:.2f}\")\n",
        "print(f\"Classificação da qualidade do ar: {classificacao}\")\n",
        "\n"
      ],
      "metadata": {
        "id": "bmP6ZbrR34Pg",
        "colab": {
          "base_uri": "https://localhost:8080/"
        },
        "outputId": "a1c8a78d-e323-44b2-a787-d733d28f9058"
      },
      "execution_count": 20,
      "outputs": [
        {
          "output_type": "stream",
          "name": "stdout",
          "text": [
            "Informe os índices de poluentes em três horários do dia:\n",
            "Índice 1: 12\n",
            "Índice 2: 32\n",
            "Índice 3: 54\n",
            "\n",
            "Média dos índices: 32.67\n",
            "Classificação da qualidade do ar: Bom\n"
          ]
        }
      ]
    },
    {
      "cell_type": "code",
      "source": [
        "#04 Desenvolva um algoritmo que simule a geração de um extrato de abastecimento de combustível. O usuário deve informar o valor em reais que abasteceu, o preço do litro e a quilometragem inicial e final da viagem. Calcule quantos litros foram colocados e a média de km/l, informando se o carro teve desempenho bom (acima de 12 km/l), médio (8-12 km/l) ou ruim (abaixo de 8 km/l).\n",
        "valor = float(input(\"informe o valor em reais que abasteceu:\"))\n",
        "preco_litro = float(input(\"informe o preço do litro:\"))\n",
        "km_inicial = float(input(\"informe a quilometragem inicial:\"))\n",
        "km_final = float(input(\"informe a quilometragem final:\"))\n",
        "litros = valor / preco_litro0\n",
        "distancia = km_final - km_inicial\n",
        "media = distancia / litros\n",
        "if media > 12:\n",
        "  print(\"desempenho bom\")\n",
        "elif media >= 8:\n",
        "  print(\"desempenho médio\")\n",
        "else:\n",
        "  print(\"desempenho ruim\")"
      ],
      "metadata": {
        "id": "VeH2dSR_39CD",
        "colab": {
          "base_uri": "https://localhost:8080/"
        },
        "outputId": "47b2c3fb-2d4e-4684-f273-b8065938c6db"
      },
      "execution_count": null,
      "outputs": [
        {
          "output_type": "stream",
          "name": "stdout",
          "text": [
            "informe o valor em reais que abasteceu:15\n",
            "informe o preço do litro:5\n",
            "informe a quilometragem inicial:3\n",
            "informe a quilometragem final:10\n",
            "desempenho ruim\n"
          ]
        }
      ]
    },
    {
      "cell_type": "code",
      "source": [
        "#05 Crie um algoritmo que pergunte o nome e o tempo total (em minutos) gasto por uma pessoa em atividades físicas durante 7 dias. Ao final, mostre a média diária, a soma total e diga se ela atingiu o mínimo recomendado de 150 minutos semanais.\n",
        "nome = input(\"informe o nome\")\n",
        "tempo_total = 0\n",
        "for i in range(7):\n",
        "  tempo = int(input(f\"informe o tempo gasto na atividade do dia {i+1}:\"))\n",
        "  tempo_total += tempo\n",
        "  media_diaria = tempo_total / 7\n",
        "print(f\" a{nome} teve a media diaria {media} minutos, com a soma total de {tempo_total} minutos semanais.\")\n",
        "if tempo_total >= 150:\n",
        "  print(\"a{nome} atingiu o minimo recomendado de 150 minutos semanais.\")\n",
        "else:\n",
        "  print(\"a{nome} não atingiu o minimo recomendado de 150 minutos semanais.\")"
      ],
      "metadata": {
        "id": "E71kgXXa4Bqi",
        "colab": {
          "base_uri": "https://localhost:8080/"
        },
        "outputId": "0727db2b-e291-468c-dae7-3e9c26e4e739"
      },
      "execution_count": 91,
      "outputs": [
        {
          "output_type": "stream",
          "name": "stdout",
          "text": [
            "informe o nomedaianny\n",
            "informe o tempo gasto na atividade do dia 1:15\n",
            "informe o tempo gasto na atividade do dia 2:14\n",
            "informe o tempo gasto na atividade do dia 3:23\n",
            "informe o tempo gasto na atividade do dia 4:30\n",
            "informe o tempo gasto na atividade do dia 5:20\n",
            "informe o tempo gasto na atividade do dia 6:25\n",
            "informe o tempo gasto na atividade do dia 7:15\n",
            " adaianny teve a media diaria 32.666666666666664 minutos, com a soma total de 142 minutos semanais.\n",
            "a{nome} não atingiu o minimo recomendado de 150 minutos semanais.\n"
          ]
        }
      ]
    },
    {
      "cell_type": "code",
      "source": [
        "#06 Desenvolva um algoritmo que simule o acompanhamento de consumo de água em uma residência. O usuário informará o valor do hidrômetro no início e no fim do mês. O sistema calculará o total consumido e o valor a pagar, seguindo uma tabela de faixas de consumo (ex: até 10 m³, tarifa fixa; de 11 a 20, valor extra por m³; acima de 20, tarifa mais alta).\n",
        "hidrômetro_inicial = float(input(\"informe o valor do hidrômetro no inicio do mês:\"))\n",
        "hidrômetro_final = float(input(\"informe o valor do hidrômetro no final do mês:\"))\n",
        "consumo = hidrômetro_final - hidrômetro_inicial\n",
        "if consumo <= 10:\n",
        "  valor = 100 + consumo * 1\n",
        "  print (f\"consumo: {consumo:.1f} m³\")\n",
        "  print (f\"valor: R$ {valor:.2f}\")\n",
        "elif consumo <= 20:\n",
        "  valor = 100 + 10 * 1 + (consumo - 10) * 1.5\n",
        "  print (f\"consumo: {consumo:.1f} m³\")\n",
        "  print (f\"valor: R$ {valor:.2f}\")\n",
        "else:\n",
        "  valor = 100 + 10 * 1 + 10 * 1.5 + (consumo - 20) * 2\n",
        "  print (f\"consumo: {consumo:.1f} m³\")\n",
        "  print (f\"valor: R$ {valor:.2f}\")"
      ],
      "metadata": {
        "id": "AjfnxIJ74FlF",
        "colab": {
          "base_uri": "https://localhost:8080/"
        },
        "outputId": "06dfed60-e711-4583-b1b1-ba37d5846e99"
      },
      "execution_count": null,
      "outputs": [
        {
          "output_type": "stream",
          "name": "stdout",
          "text": [
            "informe o valor do hidrômetro no inicio do mês:20\n",
            "informe o valor do hidrômetro no final do mês:20\n",
            "consumo: 0.0 m³\n",
            "valor: R$ 100.00\n"
          ]
        }
      ]
    },
    {
      "cell_type": "code",
      "source": [
        "#07 Elabore um algoritmo que simule a pontualidade de voos. Receba o horário previsto e o horário real de chegada (hora e minuto). Informe o tempo de atraso ou adiantamento e classifique o voo como “pontual” (diferença ≤ 5 min), “ligeiramente atrasado/adiantado” (até 30 min) ou “muito atrasado/adiantado” (> 30 min).\n",
        "def para_minutos(hora, minuto):\n",
        "    return hora * 60 + minuto\n",
        "\n",
        "print(\"Informe o horário previsto de chegada:\")\n",
        "hora_prevista = int(input(\"Hora (0-23): \"))\n",
        "minuto_previsto = int(input(\"Minuto (0-59): \"))\n",
        "\n",
        "print(\"\\nInforme o horário real de chegada:\")\n",
        "hora_real = int(input(\"Hora (0-23): \"))\n",
        "minuto_real = int(input(\"Minuto (0-59): \"))\n",
        "\n",
        "minutos_previstos = para_minutos(hora_prevista, minuto_previsto)\n",
        "minutos_reais = para_minutos(hora_real, minuto_real)\n",
        "\n",
        "diferenca = minutos_reais - minutos_previstos\n",
        "\n",
        "if abs(diferenca) <= 5:\n",
        "    status = \"Pontual\"\n",
        "elif abs(diferenca) <= 30:\n",
        "    status = \"Ligeiramente atrasado\" if diferenca > 0 else \"Ligeiramente adiantado\"\n",
        "else:\n",
        "    status = \"Muito atrasado\" if diferenca > 0 else \"Muito adiantado\"\n",
        "\n",
        "horas = abs(diferenca) // 60\n",
        "minutos = abs(diferenca) % 60\n",
        "\n",
        "print(f\"\\nDiferença de chegada: {horas}h {minutos}min\")\n",
        "print(f\"Status do voo: {status}\")\n"
      ],
      "metadata": {
        "id": "re29xihL4Qhl",
        "outputId": "bf31a565-43be-468a-f9cb-4e57df321461",
        "colab": {
          "base_uri": "https://localhost:8080/"
        }
      },
      "execution_count": 95,
      "outputs": [
        {
          "output_type": "stream",
          "name": "stdout",
          "text": [
            "Informe o horário previsto de chegada:\n",
            "Hora (0-23): 14\n",
            "Minuto (0-59): 30\n",
            "\n",
            "Informe o horário real de chegada:\n",
            "Hora (0-23): 16\n",
            "Minuto (0-59): 40\n",
            "\n",
            "Diferença de chegada: 2h 10min\n",
            "Status do voo: Muito atrasado\n"
          ]
        }
      ]
    },
    {
      "cell_type": "code",
      "source": [
        "#08 Crie um algoritmo que simule o cálculo de tempo total de tela (TV, celular, computador). Para cada dispositivo, o usuário informa quanto tempo usou por dia (em horas e minutos) por 3 dias. O sistema deve apresentar o tempo total em horas e minutos, destacando o aparelho com maior uso e emitindo um alerta caso o total passe de 10 horas diárias.\n",
        "def calcular_tempo_total():\n",
        "    aparelhos = [\"TV\", \"Celular\", \"Computador\"]\n",
        "    tempos = {}\n",
        "\n",
        "    for aparelho in aparelhos:\n",
        "        total_minutos = 0\n",
        "        for dia in range(1, 4):\n",
        "            horas = int(input(f\"Quantas horas você usou a {aparelho} no dia {dia}? \"))\n",
        "            minutos = int(input(f\"Quantos minutos você usou a {aparelho} no dia {dia}? \"))\n",
        "            total_minutos += horas * 60 + minutos\n",
        "        tempos[aparelho] = total_minutos\n",
        "\n",
        "    total_geral = sum(tempos.values())\n",
        "    total_horas = total_geral // 60\n",
        "    total_minutos = total_geral % 60\n",
        "\n",
        "    aparelho_maior_uso = max(tempos, key=tempos.get)\n",
        "    maior_uso_horas = tempos[aparelho_maior_uso] // 60\n",
        "    maior_uso_minutos = tempos[aparelho_maior_uso] % 60\n",
        "\n",
        "    print(f\"\\nTempo total de tela: {total_horas} horas e {total_minutos} minutos.\")\n",
        "    print(f\"O aparelho com maior uso foi a {aparelho_maior_uso}, com {maior_uso_horas} horas e {maior_uso_minutos} minutos.\")\n",
        "\n",
        "    if total_geral > 600:\n",
        "        print(\"Alerta: Você ultrapassou 10 horas diárias de tempo de tela!\")\n",
        "\n",
        "calcular_tempo_total()"
      ],
      "metadata": {
        "id": "Js4_nWHd4ZDT",
        "colab": {
          "base_uri": "https://localhost:8080/"
        },
        "outputId": "56256e85-b630-4226-c54e-e3e3714ee425"
      },
      "execution_count": 37,
      "outputs": [
        {
          "output_type": "stream",
          "name": "stdout",
          "text": [
            "Quantas horas você usou a TV no dia 1? 1\n",
            "Quantos minutos você usou a TV no dia 1? 50\n",
            "Quantas horas você usou a TV no dia 2? 1\n",
            "Quantos minutos você usou a TV no dia 2? 30\n",
            "Quantas horas você usou a TV no dia 3? 2\n",
            "Quantos minutos você usou a TV no dia 3? 50\n",
            "Quantas horas você usou a Celular no dia 1? 3\n",
            "Quantos minutos você usou a Celular no dia 1? 20\n",
            "Quantas horas você usou a Celular no dia 2? 4\n",
            "Quantos minutos você usou a Celular no dia 2? 10\n",
            "Quantas horas você usou a Celular no dia 3? 5\n",
            "Quantos minutos você usou a Celular no dia 3? 10\n",
            "Quantas horas você usou a Computador no dia 1? 1\n",
            "Quantos minutos você usou a Computador no dia 1? 50\n",
            "Quantas horas você usou a Computador no dia 2? 2\n",
            "Quantos minutos você usou a Computador no dia 2? 1\n",
            "Quantas horas você usou a Computador no dia 3? 3\n",
            "Quantos minutos você usou a Computador no dia 3? 40\n",
            "\n",
            "Tempo total de tela: 26 horas e 21 minutos.\n",
            "O aparelho com maior uso foi a Celular, com 12 horas e 40 minutos.\n",
            "Alerta: Você ultrapassou 10 horas diárias de tempo de tela!\n"
          ]
        }
      ]
    },
    {
      "cell_type": "code",
      "source": [
        "#09 Elabore um algoritmo que simule o rendimento de um plantio de hortaliças. Receba a área (em m²), o tipo da planta (cenoura, alface ou couve) e o rendimento médio por m². Calcule a produção esperada e diga se será suficiente para abastecer um mercado local (mínimo de 100 kg).\n",
        "def calcular_rendimento():\n",
        "    area = float(input(\"Digite a área do plantio (em metros quadrados): \"))\n",
        "    planta = input(\"Digite o tipo da planta (cenoura, alface ou couve): \").lower()\n",
        "    rendimento_por_m2 = float(input(\"Digite o rendimento médio por metro quadrado (em kg): \"))\n",
        "\n",
        "    if planta not in [\"cenoura\", \"alface\", \"couve\"]:\n",
        "        print(\"Planta inválida. Digite 'cenoura', 'alface' ou 'couve'.\")\n",
        "        return\n",
        "\n",
        "    producao_total = area * rendimento_por_m2\n",
        "\n",
        "    print(f\"\\nA produção esperada é: {producao_total:.2f} kg.\")\n",
        "\n",
        "    if producao_total >= 100:\n",
        "        print(\"A produção é suficiente para abastecer o mercado local.\")\n",
        "    else:\n",
        "        print(\"A produção não é suficiente para abastecer o mercado local.\")\n",
        "\n",
        "calcular_rendimento()"
      ],
      "metadata": {
        "id": "iXf57WHD4dwJ",
        "colab": {
          "base_uri": "https://localhost:8080/"
        },
        "outputId": "b7893942-d2a2-48bf-a10e-6d3b18d3d2b9"
      },
      "execution_count": 38,
      "outputs": [
        {
          "output_type": "stream",
          "name": "stdout",
          "text": [
            "Digite a área do plantio (em metros quadrados): 60\n",
            "Digite o tipo da planta (cenoura, alface ou couve): cenoura\n",
            "Digite o rendimento médio por metro quadrado (em kg): 5\n",
            "\n",
            "A produção esperada é: 300.00 kg.\n",
            "A produção é suficiente para abastecer o mercado local.\n"
          ]
        }
      ]
    },
    {
      "cell_type": "code",
      "source": [
        "#10 Crie um algoritmo que simule um plano de leitura. O usuário informa a quantidade de páginas de um livro, o tempo diário disponível para leitura (em minutos) e a velocidade média de leitura (páginas por minuto). O programa deve estimar quantos dias ele levará para terminar e sugerir um cronograma diário.\n",
        "import math\n",
        "\n",
        "print(\"=== Plano de Leitura Personalizado ===\")\n",
        "paginas_totais = int(input(\"Quantas páginas tem o livro? \"))\n",
        "tempo_diario = int(input(\"Quantos minutos você pode ler por dia? \"))\n",
        "velocidade = float(input(\"Qual sua velocidade média de leitura (páginas por minuto)? \"))\n",
        "\n",
        "paginas_por_dia = tempo_diario * velocidade\n",
        "\n",
        "dias_necessarios = math.ceil(paginas_totais / paginas_por_dia)\n",
        "\n",
        "print(f\"\\n Estimativa de Leitura:\")\n",
        "print(f\"Você poderá ler aproximadamente {paginas_por_dia:.1f} páginas por dia.\")\n",
        "print(f\"Você terminará o livro em cerca de {dias_necessarios} dia(s).\")\n",
        "\n",
        "print(\"\\n Cronograma sugerido:\")\n",
        "paginas_lidas = 0\n",
        "for dia in range(1, dias_necessarios + 1):\n",
        "    restante = paginas_totais - paginas_lidas\n",
        "    leitura_dia = min(restante, math.ceil(paginas_por_dia))\n",
        "    paginas_lidas += leitura_dia\n",
        "    print(f\"Dia {dia}: Leia {leitura_dia} página(s)\")\n",
        "\n",
        "print(\"\\nBoa leitura!\")\n"
      ],
      "metadata": {
        "id": "krX4lRUz4hhJ",
        "colab": {
          "base_uri": "https://localhost:8080/"
        },
        "outputId": "95b19006-1e59-4aa4-95d0-2b900450ed46"
      },
      "execution_count": 39,
      "outputs": [
        {
          "output_type": "stream",
          "name": "stdout",
          "text": [
            "=== Plano de Leitura Personalizado ===\n",
            "Quantas páginas tem o livro? 110\n",
            "Quantos minutos você pode ler por dia? 3\n",
            "Qual sua velocidade média de leitura (páginas por minuto)? 5\n",
            "\n",
            " Estimativa de Leitura:\n",
            "Você poderá ler aproximadamente 15.0 páginas por dia.\n",
            "Você terminará o livro em cerca de 8 dia(s).\n",
            "\n",
            " Cronograma sugerido:\n",
            "Dia 1: Leia 15 página(s)\n",
            "Dia 2: Leia 15 página(s)\n",
            "Dia 3: Leia 15 página(s)\n",
            "Dia 4: Leia 15 página(s)\n",
            "Dia 5: Leia 15 página(s)\n",
            "Dia 6: Leia 15 página(s)\n",
            "Dia 7: Leia 15 página(s)\n",
            "Dia 8: Leia 5 página(s)\n",
            "\n",
            "Boa leitura!\n"
          ]
        }
      ]
    },
    {
      "cell_type": "code",
      "source": [
        "#11 Desenvolva um algoritmo que simule o tempo de espera em uma fila de atendimento. O usuário informa o número de pessoas na frente e o tempo médio de atendimento por pessoa. O programa deve exibir o tempo total estimado de espera em horas e minutos e indicar se é melhor voltar depois.\n",
        "def para_horas_minutos(minutos):\n",
        "    horas = minutos // 60\n",
        "    mins = minutos % 60\n",
        "    return horas, mins\n",
        "\n",
        "print(\"=== Simulador de Fila de Atendimento ===\")\n",
        "pessoas_na_frente = int(input(\"Quantas pessoas estão na sua frente? \"))\n",
        "tempo_medio = int(input(\"Qual o tempo médio de atendimento por pessoa (em minutos)? \"))\n",
        "\n",
        "tempo_total_min = pessoas_na_frente * tempo_medio\n",
        "horas, minutos = para_horas_minutos(tempo_total_min)\n",
        "\n",
        "print(f\"\\n Tempo total estimado de espera: {horas}h {minutos}min\")\n",
        "\n",
        "if tempo_total_min > 60:\n",
        "    print(\"Sugerimos que você volte mais tarde, a espera está longa.\")\n",
        "else:\n",
        "    print(\"A espera está razoável, vale a pena aguardar.\")\n"
      ],
      "metadata": {
        "id": "DPI8cuTA4mGf",
        "colab": {
          "base_uri": "https://localhost:8080/"
        },
        "outputId": "5222ad2b-e73e-47fe-9322-f630eda52b66"
      },
      "execution_count": 40,
      "outputs": [
        {
          "output_type": "stream",
          "name": "stdout",
          "text": [
            "=== Simulador de Fila de Atendimento ===\n",
            "Quantas pessoas estão na sua frente? 6\n",
            "Qual o tempo médio de atendimento por pessoa (em minutos)? 60\n",
            "\n",
            " Tempo total estimado de espera: 6h 0min\n",
            "Sugerimos que você volte mais tarde, a espera está longa.\n"
          ]
        }
      ]
    },
    {
      "cell_type": "code",
      "source": [
        "#12 Elabore um algoritmo que ajude no controle de validade de alimentos. O usuário informa a data de fabricação e a validade (em dias). O programa calcula quantos dias faltam para vencer e emite alertas em cores (texto) se estiver perto de vencer (menos de 5 dias) ou já vencido.\n",
        "from datetime import datetime, timedelta\n",
        "\n",
        "def colorir(texto, cor):\n",
        "    cores = {\n",
        "        \"vermelho\": \"\\033[91m\",\n",
        "        \"amarelo\": \"\\033[93m\",\n",
        "        \"verde\": \"\\033[92m\",\n",
        "        \"fim\": \"\\033[0m\"\n",
        "    }\n",
        "    return f\"{cores[cor]}{texto}{cores['fim']}\"\n",
        "\n",
        "print(\"=== Controle de Validade de Alimentos ===\")\n",
        "fabricacao_str = input(\"Informe a data de fabricação (formato DD/MM/AAAA): \")\n",
        "validade_dias = int(input(\"Informe a validade (em dias): \"))\n",
        "\n",
        "fabricacao = datetime.strptime(fabricacao_str, \"%d/%m/%Y\")\n",
        "data_validade = fabricacao + timedelta(days=validade_dias)\n",
        "hoje = datetime.today()\n",
        "\n",
        "dias_restantes = (data_validade - hoje).days\n",
        "\n",
        "print(f\"\\n Data de fabricação: {fabricacao.strftime('%d/%m/%Y')}\")\n",
        "print(f\"Data de validade: {data_validade.strftime('%d/%m/%Y')}\")\n",
        "print(f\"Dias restantes para vencer: {max(0, dias_restantes)}\")"
      ],
      "metadata": {
        "id": "nGMRUwVW4qei",
        "colab": {
          "base_uri": "https://localhost:8080/"
        },
        "outputId": "4519d845-b7b8-48fb-e24b-d548f542fb70"
      },
      "execution_count": 43,
      "outputs": [
        {
          "output_type": "stream",
          "name": "stdout",
          "text": [
            "=== Controle de Validade de Alimentos ===\n",
            "Informe a data de fabricação (formato DD/MM/AAAA): 30/04/2025\n",
            "Informe a validade (em dias): 120\n",
            "\n",
            " Data de fabricação: 30/04/2025\n",
            "Data de validade: 28/08/2025\n",
            "Dias restantes para vencer: 112\n"
          ]
        }
      ]
    },
    {
      "cell_type": "code",
      "source": [
        "#13 Crie um algoritmo que receba a data atual e a data de um evento (em qualquer ano) e informe quantos dias faltam. O programa deve considerar se o evento está no mesmo ano, em um ano futuro ou se já passou.\n",
        "from datetime import datetime\n",
        "\n",
        "print(\"=== Contador de Dias para um Evento ===\")\n",
        "\n",
        "data_atual_str = input(\"Informe a data atual (DD/MM/AAAA): \")\n",
        "data_atual = datetime.strptime(data_atual_str, \"%d/%m/%Y\")\n",
        "\n",
        "data_evento_str = input(\"Informe a data do evento (DD/MM/AAAA): \")\n",
        "data_evento = datetime.strptime(data_evento_str, \"%d/%m/%Y\")\n",
        "\n",
        "diferenca = (data_evento - data_atual).days\n",
        "\n",
        "print(\"\\n Resultado:\")\n",
        "if diferenca > 0:\n",
        "    print(f\"Faltam {diferenca} dia(s) para o evento.\")\n",
        "elif diferenca == 0:\n",
        "    print(\" O evento é HOJE!\")\n",
        "else:\n",
        "    print(f\" O evento já passou há {abs(diferenca)} dia(s).\")\n"
      ],
      "metadata": {
        "id": "1k1GpcdP4uY2",
        "colab": {
          "base_uri": "https://localhost:8080/"
        },
        "outputId": "faed1f32-1331-42a2-8d08-fa747a47870e"
      },
      "execution_count": 45,
      "outputs": [
        {
          "output_type": "stream",
          "name": "stdout",
          "text": [
            "=== Contador de Dias para um Evento ===\n",
            "Informe a data atual (DD/MM/AAAA): 07/05/2025\n",
            "Informe a data do evento (DD/MM/AAAA): 23/05/2025\n",
            "\n",
            " Resultado:\n",
            "Faltam 16 dia(s) para o evento.\n"
          ]
        }
      ]
    },
    {
      "cell_type": "code",
      "source": [
        "#14 Desenvolva um algoritmo que ajude a controlar o tempo de tela de crianças. O usuário deve informar a idade da criança e o tempo de uso de dispositivos eletrônicos. Com base na recomendação da OMS para cada faixa etária, diga se o uso está adequado ou exagerado.\n",
        "def verificar_tempo_de_tela(idade, tempo_uso):\n",
        "    if idade < 2:\n",
        "        if tempo_uso > 0:\n",
        "            return \"Uso inadequado: A OMS não recomenda o uso de telas para crianças menores de 2 anos.\"\n",
        "        else:\n",
        "            return \"Uso adequado: A criança não deve usar telas.\"\n",
        "    elif 2 <= idade <= 5:\n",
        "        if tempo_uso <= 60:\n",
        "            return \"Uso adequado: Está dentro da recomendação da OMS (máximo 1 hora por dia).\"\n",
        "        else:\n",
        "            return \"Uso exagerado: A OMS recomenda no máximo 1 hora por dia.\"\n",
        "    elif 6 <= idade <= 12:\n",
        "        if tempo_uso <= 120:\n",
        "            return \"Uso adequado: Está dentro da recomendação da OMS (máximo 2 horas por dia).\"\n",
        "        else:\n",
        "            return \"Uso exagerado: A OMS recomenda no máximo 2 horas por dia.\"\n",
        "    else:\n",
        "        if tempo_uso <= 180:\n",
        "            return \"Uso adequado: Está dentro da recomendação da OMS (máximo 3 horas por dia).\"\n",
        "        else:\n",
        "            return \"Uso exagerado: A OMS recomenda no máximo 3 horas por dia.\"\n",
        "\n",
        "print(\"=== Controle de Tempo de Tela para Crianças ===\")\n",
        "idade = int(input(\"Informe a idade da criança: \"))\n",
        "tempo_uso = int(input(\"Informe o tempo de uso de dispositivos eletrônicos (em minutos): \"))\n",
        "\n",
        "resultado = verificar_tempo_de_tela(idade, tempo_uso)\n",
        "\n",
        "print(\"\\n\" + resultado)"
      ],
      "metadata": {
        "id": "0niGcPiA4yZT",
        "colab": {
          "base_uri": "https://localhost:8080/"
        },
        "outputId": "4f1f4f64-f5fd-4042-832d-999032045827"
      },
      "execution_count": 46,
      "outputs": [
        {
          "output_type": "stream",
          "name": "stdout",
          "text": [
            "=== Controle de Tempo de Tela para Crianças ===\n",
            "Informe a idade da criança: 10\n",
            "Informe o tempo de uso de dispositivos eletrônicos (em minutos): 5\n",
            "\n",
            "Uso adequado: Está dentro da recomendação da OMS (máximo 2 horas por dia).\n"
          ]
        }
      ]
    },
    {
      "cell_type": "code",
      "source": [
        "#15 Elabore um algoritmo que calcule o tempo exato de um voo com escalas. O usuário informa o horário de saída, o tempo de voo e o tempo total de espera em escalas. O sistema deve calcular o horário final de chegada e a duração total da viagem.\n",
        "from datetime import datetime, timedelta\n",
        "\n",
        "def somar_tempos(hora_inicial, tempo_voo, tempo_escala):\n",
        "\n",
        "    hora_final = hora_inicial + timedelta(hours=tempo_voo[0], minutes=tempo_voo[1])\n",
        "\n",
        "    hora_final += timedelta(hours=tempo_escala[0], minutes=tempo_escala[1])\n",
        "    return hora_final\n",
        "\n",
        "print(\"=== Cálculo de Tempo de Voo com Escalas ===\")\n",
        "hora_saida_str = input(\"Informe o horário de saída (formato HH:MM): \")\n",
        "hora_saida = datetime.strptime(hora_saida_str, \"%H:%M\")\n",
        "\n",
        "tempo_voo_horas = int(input(\"Informe o tempo de voo (em horas): \"))\n",
        "tempo_voo_minutos = int(input(\"Informe o tempo de voo (em minutos): \"))\n",
        "\n",
        "tempo_escala_horas = int(input(\"Informe o tempo total de espera nas escalas (em horas): \"))\n",
        "tempo_escala_minutos = int(input(\"Informe o tempo total de espera nas escalas (em minutos): \"))\n",
        "\n",
        "hora_chegada = somar_tempos(hora_saida, (tempo_voo_horas, tempo_voo_minutos), (tempo_escala_horas, tempo_escala_minutos))\n",
        "\n",
        "duracao_total_min = (hora_chegada - hora_saida).seconds // 60\n",
        "duracao_total_horas = duracao_total_min // 60\n",
        "duracao_total_minutos = duracao_total_min % 60\n",
        "\n",
        "print(f\"\\nHorário de saída: {hora_saida.strftime('%H:%M')}\")\n",
        "print(f\"Horário de chegada: {hora_chegada.strftime('%H:%M')}\")\n",
        "print(f\"Duração total da viagem: {duracao_total_horas} horas e {duracao_total_minutos} minutos.\")\n"
      ],
      "metadata": {
        "id": "ci8QILfP42A8",
        "colab": {
          "base_uri": "https://localhost:8080/"
        },
        "outputId": "ec0f20d2-cd5d-4385-b2c5-1da2c2594292"
      },
      "execution_count": 47,
      "outputs": [
        {
          "output_type": "stream",
          "name": "stdout",
          "text": [
            "=== Cálculo de Tempo de Voo com Escalas ===\n",
            "Informe o horário de saída (formato HH:MM): 15:30\n",
            "Informe o tempo de voo (em horas): 4\n",
            "Informe o tempo de voo (em minutos): 20\n",
            "Informe o tempo total de espera nas escalas (em horas): 2\n",
            "Informe o tempo total de espera nas escalas (em minutos): 3\n",
            "\n",
            "Horário de saída: 15:30\n",
            "Horário de chegada: 21:53\n",
            "Duração total da viagem: 6 horas e 23 minutos.\n"
          ]
        }
      ]
    },
    {
      "cell_type": "code",
      "source": [
        "#16 Crie um algoritmo que calcule a economia gerada por um desconto progressivo. O usuário informa o valor de uma compra e o sistema aplica descontos por faixa: até R$100 (5%), até R$200 (10%), acima disso (15%). Exiba o valor com desconto e a economi\n",
        "valor_compra = float(input(\"Digite o valor da compra: R$  \"))\n",
        "\n",
        "desconto_total=0\n",
        "valor_final=0\n",
        "\n",
        "if valor_compra<=100:\n",
        "  desconto_total=valor_compra* 0.05\n",
        "  valor_final=valor_compra-desconto_total\n",
        "elif valor_compra<=200:\n",
        "  desconto_total=valor_compra* 0.10\n",
        "  valor_final=valor_compra-desconto_total\n",
        "else:\n",
        "  desconto_total=valor_compra* 0.15\n",
        "  valor_final=valor_compra-desconto_total\n",
        "\n",
        "print(f\"Valor com desconto: R$ {valor_final:.2f}\")\n",
        "print(f\"Economia: R$ {desconto_total:.2f}\")\n",
        "\n"
      ],
      "metadata": {
        "id": "qBiWzau67I6G",
        "colab": {
          "base_uri": "https://localhost:8080/"
        },
        "outputId": "915618fb-cbde-44f1-8bf7-882cc34d13c0"
      },
      "execution_count": 48,
      "outputs": [
        {
          "output_type": "stream",
          "name": "stdout",
          "text": [
            "Digite o valor da compra: R$  150\n",
            "Valor com desconto: R$ 135.00\n",
            "Economia: R$ 15.00\n"
          ]
        }
      ]
    },
    {
      "cell_type": "code",
      "source": [
        "#17 Elabore um algoritmo que simule a passagem de anos em um relógio biológico. O usuário informa a idade e o tempo (em anos) em que pretende manter hábitos saudáveis. O sistema deve estimar, com base em dados simulados, quanto de expectativa de vida ele “ganharia” a mais, usando faixas de ganho por período.\n",
        "def calcular_vida_extra():\n",
        "    idade_atual = int(input(\"Digite sua idade atual: \"))\n",
        "    tempo_habitos = int(input(\"Digite o tempo (em anos) que você pretende manter hábitos saudáveis: \"))\n",
        "\n",
        "    if tempo_habitos < 5:\n",
        "        ganho_vida = 2\n",
        "    elif 5 <= tempo_habitos < 10:\n",
        "        ganho_vida = 5\n",
        "    elif 10 <= tempo_habitos < 20:\n",
        "        ganho_vida = 10\n",
        "    else:\n",
        "        ganho_vida = 15\n",
        "\n",
        "    expectativa_vida = 75\n",
        "    nova_expectativa_vida = expectativa_vida + ganho_vida\n",
        "\n",
        "    nova_idade = idade_atual + tempo_habitos\n",
        "    print(f\"\\nSua idade atual é {idade_atual} anos.\")\n",
        "    print(f\"Você pretende manter hábitos saudáveis por {tempo_habitos} anos.\")\n",
        "    print(f\"Com isso, você poderia ganhar {ganho_vida} anos de expectativa de vida!\")\n",
        "    print(f\"Sua nova expectativa de vida estimada seria: {nova_expectativa_vida} anos.\")\n",
        "    print(f\"Você estaria com {nova_idade} anos ao atingir essa expectativa de vida.\")\n",
        "\n",
        "calcular_vida_extra()"
      ],
      "metadata": {
        "colab": {
          "base_uri": "https://localhost:8080/"
        },
        "id": "8IfK0F_ICfQr",
        "outputId": "2f733fe3-6073-4dbc-b796-eb610c437f2d"
      },
      "execution_count": 54,
      "outputs": [
        {
          "output_type": "stream",
          "name": "stdout",
          "text": [
            "Digite sua idade atual: 30\n",
            "Digite o tempo (em anos) que você pretende manter hábitos saudáveis: 2\n",
            "\n",
            "Sua idade atual é 30 anos.\n",
            "Você pretende manter hábitos saudáveis por 2 anos.\n",
            "Com isso, você poderia ganhar 2 anos de expectativa de vida!\n",
            "Sua nova expectativa de vida estimada seria: 77 anos.\n",
            "Você estaria com 32 anos ao atingir essa expectativa de vida.\n"
          ]
        }
      ]
    },
    {
      "cell_type": "code",
      "source": [
        "#18 Crie um algoritmo que simule o horário ideal de sono. O usuário informa a hora em que precisa acordar e o sistema sugere três horários para dormir com base em ciclos de 90 minutos (recomendação médica).\n",
        "from datetime import datetime, timedelta\n",
        "\n",
        "def calcular_horario_ideal():\n",
        "    hora_acordar = input(\"Digite a hora em que você precisa acordar (formato HH:MM): \")\n",
        "    hora_acordar = datetime.strptime(hora_acordar, \"%H:%M\")\n",
        "\n",
        "    ciclos = [1, 2, 3]  # Ciclos de sono (1 ciclo = 90 minutos)\n",
        "\n",
        "    print(\"\\nSugestões de horários para dormir baseados em ciclos de 90 minutos:\")\n",
        "\n",
        "    for ciclo in ciclos:\n",
        "        horas_dormir = hora_acordar - timedelta(minutes=90 * ciclo)\n",
        "        print(f\"Para {ciclo} ciclo(s), você pode dormir às {horas_dormir.strftime('%H:%M')}.\")\n",
        "\n",
        "calcular_horario_ideal()"
      ],
      "metadata": {
        "colab": {
          "base_uri": "https://localhost:8080/"
        },
        "id": "KZkrPvPIJWp6",
        "outputId": "1400189b-0c01-4b0f-d074-72cf7de870c7"
      },
      "execution_count": 56,
      "outputs": [
        {
          "output_type": "stream",
          "name": "stdout",
          "text": [
            "Digite a hora em que você precisa acordar (formato HH:MM): 22:00\n",
            "\n",
            "Sugestões de horários para dormir baseados em ciclos de 90 minutos:\n",
            "Para 1 ciclo(s), você pode dormir às 20:30.\n",
            "Para 2 ciclo(s), você pode dormir às 19:00.\n",
            "Para 3 ciclo(s), você pode dormir às 17:30.\n"
          ]
        }
      ]
    },
    {
      "cell_type": "code",
      "source": [
        "#19 Desenvolva um algoritmo que simule uma caminhada virtual. O usuário informa quantos passos dá por minuto e quanto tempo caminhou. O programa calcula quantos quilômetros percorreu, sabendo que 1.300 passos equivalem a 1 km, e fornece uma estimativa de calorias gastas.\n",
        "def simular_caminhada(passos_por_minuto, tempo_minutos):\n",
        "    total_passos = passos_por_minuto * tempo_minutos\n",
        "\n",
        "    passos_por_km = 130\n",
        "    distancia_km = total_passos / passos_por_km\n",
        "\n",
        "    calorias_gastas = distancia_km * 50\n",
        "\n",
        "    return total_passos, round(distancia_km, 2), round(calorias_gastas, 1)\n",
        "\n",
        "passos = int(input(\"Quantos passos você dá por minuto? \"))\n",
        "tempo = int(input(\"Por quanto tempo você caminhou? (em minutos) \"))\n",
        "\n",
        "total, km, calorias = simular_caminhada(passos, tempo)\n",
        "\n",
        "print(f\"\\n Você deu {total} passos.\")\n",
        "print(f\" Distância percorrida: {km} km\")\n",
        "print(f\" Calorias estimadas: {calorias} kcal\")\n",
        "\n",
        "\n"
      ],
      "metadata": {
        "colab": {
          "base_uri": "https://localhost:8080/"
        },
        "id": "RuNOwhgwLMXH",
        "outputId": "f0130fb1-9cdc-42a7-b534-5b69dbf64f92"
      },
      "execution_count": 57,
      "outputs": [
        {
          "output_type": "stream",
          "name": "stdout",
          "text": [
            "Quantos passos você dá por minuto? 10\n",
            "Por quanto tempo você caminhou? (em minutos) 60\n",
            "\n",
            " Você deu 600 passos.\n",
            " Distância percorrida: 4.62 km\n",
            " Calorias estimadas: 230.8 kcal\n"
          ]
        }
      ]
    },
    {
      "cell_type": "code",
      "source": [
        "#20 Elabore um algoritmo que leia a data e hora atual e informe em quanto tempo (em horas e minutos) acontecerá o pôr do sol, considerando que ele ocorrerá às 18h. Se o horário atual for após esse horário, exiba que o sol já se pôs\n",
        "from datetime import datetime, time, timedelta\n",
        "def tempo_ate_pordosol():\n",
        "    agora = datetime.now()\n",
        "    hoje = agora.date()\n",
        "\n",
        "    horario_pordosol = datetime.combine(hoje, time(18, 0))\n",
        "\n",
        "    if agora < horario_pordosol:\n",
        "        tempo_restante = horario_pordosol - agora\n",
        "        horas, resto = divmod(tempo_restante.seconds, 3600)\n",
        "        minutos = resto // 60\n",
        "        print(f\" Faltam {horas} hora(s) e {minutos} minuto(s) para o pôr do sol.\")\n",
        "    else:\n",
        "        print(\" O sol já se pôs.\")\n",
        "\n",
        "tempo_ate_pordosol()\n"
      ],
      "metadata": {
        "colab": {
          "base_uri": "https://localhost:8080/"
        },
        "id": "fC5_Hak7L-jx",
        "outputId": "2968726b-59e6-4a5c-b52f-a49ed10f3809"
      },
      "execution_count": 59,
      "outputs": [
        {
          "output_type": "stream",
          "name": "stdout",
          "text": [
            " Faltam 6 hora(s) e 59 minuto(s) para o pôr do sol.\n"
          ]
        }
      ]
    },
    {
      "cell_type": "code",
      "source": [
        "#21 Crie um algoritmo que simule o tempo de preparo de uma refeição. O usuário escolhe 3 pratos (entrada, principal, sobremesa), cada um com seu tempo de preparo. O sistema informa o tempo total e sugere uma ordem de preparo para otimizar o tempo, se possível.\n",
        "def simular_preparo_refeicao():\n",
        "    print(\"Informe os pratos e seus tempos de preparo (em minutos):\")\n",
        "\n",
        "    pratos = []\n",
        "\n",
        "    for tipo in [\"Entrada\", \"Prato Principal\", \"Sobremesa\"]:\n",
        "        nome = input(f\"{tipo}: \")\n",
        "        tempo = int(input(f\"Tempo de preparo do(a) {nome} (minutos): \"))\n",
        "        pratos.append({\"tipo\": tipo, \"nome\": nome, \"tempo\": tempo})\n",
        "\n",
        "    tempo_total = sum(prato[\"tempo\"] for prato in pratos)\n",
        "\n",
        "    ordem_otimizada = sorted(pratos, key=lambda x: x[\"tempo\"], reverse=True)\n",
        "\n",
        "    print(\"\\n Tempo total de preparo (em sequência):\", tempo_total, \"minutos\")\n",
        "\n",
        "    print(\"\\n Sugestão de ordem para otimizar o tempo:\")\n",
        "    for i, prato in enumerate(ordem_otimizada, start=1):\n",
        "        print(f\"{i}) {prato['tipo']} - {prato['nome']} ({prato['tempo']} min)\")\n",
        "\n",
        "    print(\"\\n Dica: comece pelo mais demorado e vá preparando os outros enquanto ele fica pronto.\")\n",
        "\n",
        "simular_preparo_refeicao()"
      ],
      "metadata": {
        "colab": {
          "base_uri": "https://localhost:8080/"
        },
        "id": "mj4sI5LfMuhQ",
        "outputId": "df2d28c6-0b07-480b-bf87-239af829adb3"
      },
      "execution_count": 60,
      "outputs": [
        {
          "output_type": "stream",
          "name": "stdout",
          "text": [
            "Informe os pratos e seus tempos de preparo (em minutos):\n",
            "Entrada: salada\n",
            "Tempo de preparo do(a) salada (minutos): 10\n",
            "Prato Principal: lasanha\n",
            "Tempo de preparo do(a) lasanha (minutos): 30\n",
            "Sobremesa: muse\n",
            "Tempo de preparo do(a) muse (minutos): 20\n",
            "\n",
            " Tempo total de preparo (em sequência): 60 minutos\n",
            "\n",
            " Sugestão de ordem para otimizar o tempo:\n",
            "1) Prato Principal - lasanha (30 min)\n",
            "2) Sobremesa - muse (20 min)\n",
            "3) Entrada - salada (10 min)\n",
            "\n",
            " Dica: comece pelo mais demorado e vá preparando os outros enquanto ele fica pronto.\n"
          ]
        }
      ]
    },
    {
      "cell_type": "code",
      "source": [
        "#22 Elabore um algoritmo que ajude um motorista a planejar uma viagem de ida e volta. Receba a distância (em km), o tempo de parada previsto na cidade de destino e a velocidade média. Calcule o tempo total da jornada e o tempo disponível para descanso antes do retorno.\n",
        "def planejar_viagem():\n",
        "    distancia = float(input(\"Digite a distância até o destino (em km): \"))\n",
        "    tempo_parada = float(input(\"Tempo de parada no destino (em horas): \"))\n",
        "    velocidade_media = float(input(\"Velocidade média da viagem (em km/h): \"))\n",
        "\n",
        "    tempo_ida = distancia / velocidade_media\n",
        "    tempo_volta = distancia / velocidade_media\n",
        "    tempo_total_jornada = tempo_ida + tempo_parada + tempo_volta\n",
        "\n",
        "    print(\"\\n Planejamento da Viagem:\")\n",
        "    print(f\"- Tempo de ida: {tempo_ida:.2f} horas\")\n",
        "    print(f\"- Tempo de parada: {tempo_parada:.2f} horas\")\n",
        "    print(f\"- Tempo de volta: {tempo_volta:.2f} horas\")\n",
        "    print(f\" Tempo total da jornada: {tempo_total_jornada:.2f} horas\")\n",
        "\n",
        "    tempo_descanso = tempo_parada - tempo_ida\n",
        "    if tempo_descanso > 0:\n",
        "        print(f\" Tempo disponível para descanso antes do retorno: {tempo_descanso:.2f} horas\")\n",
        "    else:\n",
        "        print(\" Não há tempo suficiente para descanso antes da volta!\")\n",
        "\n",
        "planejar_viagem()\n",
        "\n"
      ],
      "metadata": {
        "colab": {
          "base_uri": "https://localhost:8080/"
        },
        "id": "BKjprnjyMunO",
        "outputId": "c355c5f9-7465-4b73-b81f-3b3fc3c55751"
      },
      "execution_count": 61,
      "outputs": [
        {
          "output_type": "stream",
          "name": "stdout",
          "text": [
            "Digite a distância até o destino (em km): 5\n",
            "Tempo de parada no destino (em horas): 1\n",
            "Velocidade média da viagem (em km/h): 20\n",
            "\n",
            " Planejamento da Viagem:\n",
            "- Tempo de ida: 0.25 horas\n",
            "- Tempo de parada: 1.00 horas\n",
            "- Tempo de volta: 0.25 horas\n",
            " Tempo total da jornada: 1.50 horas\n",
            " Tempo disponível para descanso antes do retorno: 0.75 horas\n"
          ]
        }
      ]
    },
    {
      "cell_type": "code",
      "source": [
        "#23 Desenvolva um algoritmo que calcule quantos segundos faltam para o ano novo, recebendo a data e hora atual. O sistema deve considerar se o ano é bissexto ou não.\n",
        "from datetime import datetime\n",
        "\n",
        "def eh_bissexto(ano):\n",
        "    return (ano % 4 == 0 and ano % 100 != 0) or (ano % 400 == 0)\n",
        "\n",
        "def segundos_para_ano_novo():\n",
        "\n",
        "    agora = datetime.now()\n",
        "    ano_atual = agora.year\n",
        "\n",
        "    if eh_bissexto(ano_atual):\n",
        "        print(f\" O ano {ano_atual} é bissexto (366 dias).\")\n",
        "    else:\n",
        "        print(f\" O ano {ano_atual} não é bissexto (365 dias).\")\n",
        "\n",
        "    ano_novo = datetime(ano_atual + 1, 1, 1, 0, 0, 0)\n",
        "\n",
        "    segundos_restantes = int((ano_novo - agora).total_seconds())\n",
        "\n",
        "    print(f\" Faltam {segundos_restantes:,} segundos para o Ano Novo!\")\n",
        "\n",
        "segundos_para_ano_novo()\n"
      ],
      "metadata": {
        "colab": {
          "base_uri": "https://localhost:8080/"
        },
        "id": "1yGB7j6rOPqN",
        "outputId": "e4f1915b-6e1c-4c9c-e313-2f2f5b70bb5d"
      },
      "execution_count": 62,
      "outputs": [
        {
          "output_type": "stream",
          "name": "stdout",
          "text": [
            " O ano 2025 não é bissexto (365 dias).\n",
            " Faltam 20,609,826 segundos para o Ano Novo!\n"
          ]
        }
      ]
    },
    {
      "cell_type": "code",
      "source": [
        "#24 Crie um algoritmo que simule a leitura de um termômetro inteligente. O usuário informa temperaturas de manhã, tarde e noite por 5 dias. O sistema deve exibir a maior e menor temperatura da semana, a média geral e se houve risco de insolação (temperaturas acima de 35ºC em dois períodos do mesmo dia).\n",
        "def termometro_simples():\n",
        "    todas_temperaturas = []\n",
        "    risco_insolacao = []\n",
        "\n",
        "    for dia in range(1, 6):\n",
        "        print(f\"\\nDia {dia}\")\n",
        "        manha = float(input(\"Temperatura da manhã: \"))\n",
        "        tarde = float(input(\"Temperatura da tarde: \"))\n",
        "        noite = float(input(\"Temperatura da noite: \"))\n",
        "\n",
        "        dia_temp = [manha, tarde, noite]\n",
        "        todas_temperaturas += dia_temp\n",
        "\n",
        "        if sum(1 for t in dia_temp if t > 35) >= 2:\n",
        "            risco_insolacao.append(dia)\n",
        "\n",
        "    maior = max(todas_temperaturas)\n",
        "    menor = min(todas_temperaturas)\n",
        "    media = sum(todas_temperaturas) / len(todas_temperaturas)\n",
        "\n",
        "    print(\"\\n Resultado da semana:\")\n",
        "    print(f\"Maior temperatura: {maior}°C\")\n",
        "    print(f\"Menor temperatura: {menor}°C\")\n",
        "    print(f\"Média geral: {media:.1f}°C\")\n",
        "\n",
        "    if risco_insolacao:\n",
        "        print(\" Risco de insolação nos dias:\", \", \".join(str(d) for d in risco_insolacao))\n",
        "    else:\n",
        "        print(\" Nenhum risco de insolação.\")\n",
        "\n",
        "termometro_simples()\n",
        "\n"
      ],
      "metadata": {
        "colab": {
          "base_uri": "https://localhost:8080/"
        },
        "id": "4NtrCQDXOP3K",
        "outputId": "592e595d-556a-4828-9b96-1b52c5eb460e"
      },
      "execution_count": 92,
      "outputs": [
        {
          "output_type": "stream",
          "name": "stdout",
          "text": [
            "\n",
            "Dia 1\n",
            "Temperatura da manhã: 23\n",
            "Temperatura da tarde: 25\n",
            "Temperatura da noite: 20\n",
            "\n",
            "Dia 2\n",
            "Temperatura da manhã: 25\n",
            "Temperatura da tarde: 30\n",
            "Temperatura da noite: 25\n",
            "\n",
            "Dia 3\n",
            "Temperatura da manhã: 16\n",
            "Temperatura da tarde: 19\n",
            "Temperatura da noite: 15\n",
            "\n",
            "Dia 4\n",
            "Temperatura da manhã: 32\n",
            "Temperatura da tarde: 40\n",
            "Temperatura da noite: 27\n",
            "\n",
            "Dia 5\n",
            "Temperatura da manhã: 10\n",
            "Temperatura da tarde: 12\n",
            "Temperatura da noite: 10\n",
            "\n",
            " Resultado da semana:\n",
            "Maior temperatura: 40.0°C\n",
            "Menor temperatura: 10.0°C\n",
            "Média geral: 21.9°C\n",
            " Nenhum risco de insolação.\n"
          ]
        }
      ]
    },
    {
      "cell_type": "code",
      "source": [
        "#25 Elabore um algoritmo que simule o deslocamento de um ciclista. O usuário informa a velocidade média (em km/h) e a duração da pedalada em dias diferentes. O programa calcula a distância total percorrida e destaca o dia de maior rendimento.\n",
        "def simular_ciclismo():\n",
        "    num_dias = int(input(\"Quantos dias você pedalou? \"))\n",
        "    distancias = []  # Lista para guardar as distâncias de cada dia\n",
        "\n",
        "    for dia in range(1, num_dias + 1):\n",
        "        print(f\"\\n Dia {dia}\")\n",
        "        velocidade = float(input(\"Velocidade média (km/h): \"))\n",
        "        duracao = float(input(\"Duração da pedalada (em horas): \"))\n",
        "        distancia = velocidade * duracao\n",
        "        distancias.append(distancia)\n",
        "\n",
        "    distancia_total = sum(distancias)\n",
        "    dia_maior_rendimento = distancias.index(max(distancias)) + 1\n",
        "    maior_distancia = max(distancias)\n",
        "\n",
        "    print(\"\\n Relatório de Ciclismo:\")\n",
        "    print(f\" Distância total percorrida: {distancia_total:.2f} km\")\n",
        "    print(f\" Maior rendimento: Dia {dia_maior_rendimento} com {maior_distancia:.2f} km\")\n",
        "\n",
        "simular_ciclismo()"
      ],
      "metadata": {
        "id": "4TH-UxzjOQEJ",
        "colab": {
          "base_uri": "https://localhost:8080/"
        },
        "outputId": "eb0c5b43-dad0-47fe-b522-0f21f9c5fa98"
      },
      "execution_count": 65,
      "outputs": [
        {
          "output_type": "stream",
          "name": "stdout",
          "text": [
            "Quantos dias você pedalou? 3\n",
            "\n",
            " Dia 1\n",
            "Velocidade média (km/h): 20\n",
            "Duração da pedalada (em horas): 1.5\n",
            "\n",
            " Dia 2\n",
            "Velocidade média (km/h): 22\n",
            "Duração da pedalada (em horas): 2\n",
            "\n",
            " Dia 3\n",
            "Velocidade média (km/h): 18\n",
            "Duração da pedalada (em horas): 1\n",
            "\n",
            " Relatório de Ciclismo:\n",
            " Distância total percorrida: 92.00 km\n",
            " Maior rendimento: Dia 2 com 44.00 km\n"
          ]
        }
      ]
    },
    {
      "cell_type": "code",
      "source": [
        "#26 Crie um algoritmo que simule o registro de tempo de uso de energia por aparelhos domésticos. Para três aparelhos, o usuário informa a potência (em watts) e o tempo de uso diário (em horas). O sistema deve calcular o consumo mensal (em kWh) de cada aparelho e o total da residência\n",
        "def calcular_consumo_energia():\n",
        "    aparelhos = []\n",
        "    total_consumo = 0\n",
        "\n",
        "    for i in range(1, 4):\n",
        "        print(f\"\\n Aparelho {i}\")\n",
        "        nome = input(\"Nome do aparelho: \")\n",
        "        potencia = float(input(\"Potência (W): \"))\n",
        "        horas_por_dia = float(input(\"Tempo de uso diário (horas): \"))\n",
        "\n",
        "        consumo_mensal = (potencia * horas_por_dia * 30) / 1000  # em kWh\n",
        "        aparelhos.append((nome, consumo_mensal))\n",
        "        total_consumo += consumo_mensal\n",
        "\n",
        "    print(\"\\n Consumo de Energia (Mensal):\")\n",
        "    for nome, consumo in aparelhos:\n",
        "        print(f\"- {nome}: {consumo:.2f} kWh\")\n",
        "\n",
        "    print(f\"\\n Consumo total da residência: {total_consumo:.2f} kWh\")\n",
        "\n",
        "calcular_consumo_energia()\n"
      ],
      "metadata": {
        "colab": {
          "base_uri": "https://localhost:8080/"
        },
        "id": "_QnNejprUf8L",
        "outputId": "ced22baf-3087-4921-9bd4-520bf6daa47e"
      },
      "execution_count": 66,
      "outputs": [
        {
          "output_type": "stream",
          "name": "stdout",
          "text": [
            "\n",
            " Aparelho 1\n",
            "Nome do aparelho: geladeira\n",
            "Potência (W): 150\n",
            "Tempo de uso diário (horas): 24\n",
            "\n",
            " Aparelho 2\n",
            "Nome do aparelho: televisão\n",
            "Potência (W): 100\n",
            "Tempo de uso diário (horas): 5\n",
            "\n",
            " Aparelho 3\n",
            "Nome do aparelho: microondas\n",
            "Potência (W): 1200\n",
            "Tempo de uso diário (horas): 0.5\n",
            "\n",
            " Consumo de Energia (Mensal):\n",
            "- geladeira: 108.00 kWh\n",
            "- televisão: 15.00 kWh\n",
            "- microondas: 18.00 kWh\n",
            "\n",
            " Consumo total da residência: 141.00 kWh\n"
          ]
        }
      ]
    },
    {
      "cell_type": "code",
      "source": [
        "#27 Desenvolva um algoritmo que receba a hora e minuto em que um paciente tomou um remédio e calcule os próximos 3 horários ideais para as próximas doses, considerando que o medicamento deve ser tomado a cada 8 horas.\n",
        "from datetime import datetime, timedelta\n",
        "\n",
        "def calcular_proximas_doses():\n",
        "    hora = int(input(\"Informe a hora da primeira dose (0-23): \"))\n",
        "    minuto = int(input(\"Informe os minutos da primeira dose (0-59): \"))\n",
        "\n",
        "    primeira_dose = datetime.combine(datetime.today(), datetime.min.time()).replace(hour=hora, minute=minuto)\n",
        "\n",
        "    print(\"\\n Próximos horários para tomar o remédio:\")\n",
        "    for i in range(1, 4):\n",
        "        proxima_dose = primeira_dose + timedelta(hours=8 * i)\n",
        "        print(f\"Dose {i+1}: {proxima_dose.strftime('%H:%M')}\")\n",
        "\n",
        "calcular_proximas_doses()\n"
      ],
      "metadata": {
        "colab": {
          "base_uri": "https://localhost:8080/"
        },
        "id": "Ga2yCpIxUgM8",
        "outputId": "21b0df3d-cc09-4786-c7c5-f6bd7444546c"
      },
      "execution_count": 70,
      "outputs": [
        {
          "output_type": "stream",
          "name": "stdout",
          "text": [
            "Informe a hora da primeira dose (0-23): 7\n",
            "Informe os minutos da primeira dose (0-59): 30\n",
            "\n",
            " Próximos horários para tomar o remédio:\n",
            "Dose 2: 15:30\n",
            "Dose 3: 23:30\n",
            "Dose 4: 07:30\n"
          ]
        }
      ]
    },
    {
      "cell_type": "code",
      "source": [
        "#28 Elabore um algoritmo que receba a hora atual e diga quanto tempo falta para o início de um filme, que sempre começa às 20h em ponto. Se já passou desse horário, informe quanto tempo de filme a pessoa perdeu, assumindo que o filme tem 2h de duração\n",
        "from datetime import datetime, timedelta\n",
        "\n",
        "def tempo_para_filme():\n",
        "    hora = int(input(\"Informe a hora atual (0-23): \"))\n",
        "    minuto = int(input(\"Informe os minutos atuais (0-59): \"))\n",
        "\n",
        "    agora = datetime.combine(datetime.today(), datetime.min.time()).replace(hour=hora, minute=minuto)\n",
        "    inicio_filme = datetime.combine(datetime.today(), datetime.min.time()).replace(hour=20, minute=0)\n",
        "    fim_filme = inicio_filme + timedelta(hours=2)\n",
        "\n",
        "    if agora < inicio_filme:\n",
        "        tempo_falta = inicio_filme - agora\n",
        "        horas, resto = divmod(tempo_falta.seconds, 3600)\n",
        "        minutos = resto // 60\n",
        "        print(f\" Faltam {horas} hora(s) e {minutos} minuto(s) para o início do filme.\")\n",
        "    elif inicio_filme <= agora <= fim_filme:\n",
        "        tempo_perdido = agora - inicio_filme\n",
        "        horas, resto = divmod(tempo_perdido.seconds, 3600)\n",
        "        minutos = resto // 60\n",
        "        print(f\" Você perdeu {horas} hora(s) e {minutos} minuto(s) do filme.\")\n",
        "    else:\n",
        "        print(\" O filme já terminou.\")\n",
        "\n",
        "tempo_para_filme()\n"
      ],
      "metadata": {
        "colab": {
          "base_uri": "https://localhost:8080/"
        },
        "id": "C46E1Il7UgeY",
        "outputId": "e73cede2-71dc-4f88-d3c9-30aabe850133"
      },
      "execution_count": 69,
      "outputs": [
        {
          "output_type": "stream",
          "name": "stdout",
          "text": [
            "Informe a hora atual (0-23): 10\n",
            "Informe os minutos atuais (0-59): 30\n",
            " Faltam 9 hora(s) e 30 minuto(s) para o início do filme.\n"
          ]
        }
      ]
    },
    {
      "cell_type": "code",
      "source": [
        "#29 Crie um algoritmo que ajude a calcular o tempo ideal de estudo. O usuário informa o total de horas disponíveis na semana e a quantidade de disciplinas. O sistema calcula quantas horas deve dedicar a cada matéria e alerta se alguma ficar com menos de 1h.\n",
        "def calcular_tempo_estudo():\n",
        "    horas_semana = float(input(\"Quantas horas disponíveis você tem na semana para estudar? \"))\n",
        "    num_disciplinas = int(input(\"Quantas disciplinas você quer estudar? \"))\n",
        "\n",
        "    if num_disciplinas <= 0:\n",
        "        print(\" Número de disciplinas inválido.\")\n",
        "        return\n",
        "\n",
        "    horas_por_disciplina = horas_semana / num_disciplinas\n",
        "\n",
        "    print(\"\\n Distribuição de tempo por disciplina:\")\n",
        "    for i in range(1, num_disciplinas + 1):\n",
        "        print(f\"Disciplina {i}: {horas_por_disciplina:.2f} horas\")\n",
        "        if horas_por_disciplina < 1:\n",
        "            print(\"   Alerta: Menos de 1h de estudo para essa disciplina!\")\n",
        "\n",
        "calcular_tempo_estudo()\n"
      ],
      "metadata": {
        "colab": {
          "base_uri": "https://localhost:8080/"
        },
        "id": "g9Qu4UGTUiEm",
        "outputId": "9d637044-5527-457f-bdeb-4537709d21a5"
      },
      "execution_count": 68,
      "outputs": [
        {
          "output_type": "stream",
          "name": "stdout",
          "text": [
            "Quantas horas disponíveis você tem na semana para estudar? 6\n",
            "Quantas disciplinas você quer estudar? 7\n",
            "\n",
            " Distribuição de tempo por disciplina:\n",
            "Disciplina 1: 0.86 horas\n",
            "   Alerta: Menos de 1h de estudo para essa disciplina!\n",
            "Disciplina 2: 0.86 horas\n",
            "   Alerta: Menos de 1h de estudo para essa disciplina!\n",
            "Disciplina 3: 0.86 horas\n",
            "   Alerta: Menos de 1h de estudo para essa disciplina!\n",
            "Disciplina 4: 0.86 horas\n",
            "   Alerta: Menos de 1h de estudo para essa disciplina!\n",
            "Disciplina 5: 0.86 horas\n",
            "   Alerta: Menos de 1h de estudo para essa disciplina!\n",
            "Disciplina 6: 0.86 horas\n",
            "   Alerta: Menos de 1h de estudo para essa disciplina!\n",
            "Disciplina 7: 0.86 horas\n",
            "   Alerta: Menos de 1h de estudo para essa disciplina!\n"
          ]
        }
      ]
    },
    {
      "cell_type": "code",
      "source": [
        "#30 Desenvolva um algoritmo que simule o acompanhamento de produtividade de um trabalhador remoto. Receba o número de tarefas concluídas por dia durante 5 dias e calcule a média. Se a produtividade cair por dois dias consecutivos, o sistema emite um alerta.\n",
        "def acompanhar_produtividade():\n",
        "    tarefas = []\n",
        "\n",
        "    print(\" Informe o número de tarefas concluídas por dia (5 dias):\")\n",
        "    for dia in range(1, 6):\n",
        "        concluido = int(input(f\"Dia {dia}: \"))\n",
        "        tarefas.append(concluido)\n",
        "\n",
        "    media = sum(tarefas) / len(tarefas)\n",
        "    print(f\"\\n Média de tarefas por dia: {media:.2f}\")\n",
        "\n",
        "    alerta = False\n",
        "    for i in range(1, len(tarefas) - 1):\n",
        "        if tarefas[i] < tarefas[i - 1] and tarefas[i + 1] < tarefas[i]:\n",
        "            alerta = True\n",
        "            break\n",
        "\n",
        "    if alerta:\n",
        "        print(\"Alerta: Queda de produtividade detectada por dois dias consecutivos.\")\n",
        "    else:\n",
        "        print(\" Produtividade estável ou crescente.\")\n",
        "\n",
        "acompanhar_produtividade()\n"
      ],
      "metadata": {
        "colab": {
          "base_uri": "https://localhost:8080/"
        },
        "id": "d8Wjq4erUiXi",
        "outputId": "da0bf09c-e03c-496c-d45e-9103dfebe421"
      },
      "execution_count": 67,
      "outputs": [
        {
          "output_type": "stream",
          "name": "stdout",
          "text": [
            " Informe o número de tarefas concluídas por dia (5 dias):\n",
            "Dia 1: 6\n",
            "Dia 2: 5\n",
            "Dia 3: 7\n",
            "Dia 4: 4\n",
            "Dia 5: 8\n",
            "\n",
            " Média de tarefas por dia: 6.00\n",
            " Produtividade estável ou crescente.\n"
          ]
        }
      ]
    }
  ]
}