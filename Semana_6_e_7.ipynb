{
  "nbformat": 4,
  "nbformat_minor": 0,
  "metadata": {
    "colab": {
      "provenance": [],
      "authorship_tag": "ABX9TyO8HWstYFPCNGZO5VO7qgtv",
      "include_colab_link": true
    },
    "kernelspec": {
      "name": "python3",
      "display_name": "Python 3"
    },
    "language_info": {
      "name": "python"
    }
  },
  "cells": [
    {
      "cell_type": "markdown",
      "metadata": {
        "id": "view-in-github",
        "colab_type": "text"
      },
      "source": [
        "<a href=\"https://colab.research.google.com/github/gnrochabr/ALGESTDADOS_20251/blob/main/Semana_6_e_7.ipynb\" target=\"_parent\"><img src=\"https://colab.research.google.com/assets/colab-badge.svg\" alt=\"Open In Colab\"/></a>"
      ]
    },
    {
      "cell_type": "code",
      "execution_count": null,
      "metadata": {
        "id": "SHa_JEDCGDyh"
      },
      "outputs": [],
      "source": [
        "#1 - Escreva um programa que imprima os números de 1 a 10 utilizando um loop while.\n",
        "numero = 1\n",
        "while numero <= 10:\n",
        "  print(numero)\n",
        "  numero+=1"
      ]
    },
    {
      "cell_type": "code",
      "source": [
        "#2 - Escreva um programa que imprima os números de 1 a 10 utilizando um loop for com range().\n",
        "for num in range(1,11):\n",
        "  print(num)"
      ],
      "metadata": {
        "id": "yffUGYpFGMQS"
      },
      "execution_count": null,
      "outputs": []
    },
    {
      "cell_type": "code",
      "source": [
        "#3 - Crie um loop for que percorra uma lista de frutas e imprima cada uma delas.\n",
        "frutas = ['maçã','banana','kiwi','morango']\n",
        "for i in range(len(frutas)):\n",
        "  print(frutas[i])"
      ],
      "metadata": {
        "id": "eAxleRT1GMbK"
      },
      "execution_count": null,
      "outputs": []
    },
    {
      "cell_type": "code",
      "source": [
        "#4 - Utilize um while para imprimir os números pares de 0 a 20.\n",
        "number = 0\n",
        "while number <=20:\n",
        "  if number%2==0:\n",
        "    print(number)\n",
        "  number+=1"
      ],
      "metadata": {
        "id": "c18e4glnGMkp"
      },
      "execution_count": null,
      "outputs": []
    },
    {
      "cell_type": "code",
      "source": [
        "#5 - Crie um loop for que utilize enumerate() para exibir os índices e valores de uma lista de nomes.\n",
        "pessoas = ['Fulano','Cicrano','Beltrano','Diltrano']\n",
        "for posicao, nome in enumerate(pessoas):\n",
        "  print(f'{posicao}: {nome}')"
      ],
      "metadata": {
        "id": "8Bv7NiLbGMqy"
      },
      "execution_count": null,
      "outputs": []
    },
    {
      "cell_type": "code",
      "source": [
        "#6 - Escreva um programa que peça um número ao usuário e continue pedindo até que o usuário digite um número positivo.\n",
        "digito = 0\n",
        "while True:\n",
        "  digito = int(input('Digite um numero: '))\n",
        "  if digito > 0:\n",
        "    break"
      ],
      "metadata": {
        "id": "u1axWYF6GMvZ"
      },
      "execution_count": null,
      "outputs": []
    },
    {
      "cell_type": "code",
      "source": [
        "#7 - Escreva um loop for que conte de 10 até 0 e, ao final, imprima \"Fim!\".\n",
        "for i in range(10,0,-1):\n",
        "  print(i)\n",
        "print('Fim!')"
      ],
      "metadata": {
        "id": "q7nCEZz6GM0R"
      },
      "execution_count": null,
      "outputs": []
    },
    {
      "cell_type": "code",
      "source": [
        "#8 - Escreva um programa que use um while para calcular a soma dos números de 1 a 100.\n",
        "n = 1\n",
        "soma = 0\n",
        "while n<=100:\n",
        "  soma+=n\n",
        "  n+=1\n",
        "print(soma)"
      ],
      "metadata": {
        "id": "9fANTQciGM4x"
      },
      "execution_count": null,
      "outputs": []
    },
    {
      "cell_type": "code",
      "source": [
        "#9 - Modifique o exercício anterior para parar a soma se o total ultrapassar 1000, usando break.\n",
        "n = 1\n",
        "soma = 0\n",
        "while n<=100:\n",
        "  soma+=n\n",
        "  n+=1\n",
        "  if soma > 1000:\n",
        "    break\n",
        "print(soma)"
      ],
      "metadata": {
        "colab": {
          "base_uri": "https://localhost:8080/"
        },
        "id": "-NN_oFy6GM9C",
        "outputId": "da4d56d4-7f13-4165-9471-72c5a5933ac4"
      },
      "execution_count": 15,
      "outputs": [
        {
          "output_type": "stream",
          "name": "stdout",
          "text": [
            "1035\n"
          ]
        }
      ]
    },
    {
      "cell_type": "code",
      "source": [
        "#10 - Crie um programa que peça ao usuário para digitar palavras e as adicione a uma lista até que ele digite \"sair\".\n",
        "palavra = ' '\n",
        "palavras = []\n",
        "while palavra.upper()!= 'SAIR':\n",
        "  palavra = input('Digite a palavra')\n",
        "  palavras.append(palavra)\n",
        "print(palavras)"
      ],
      "metadata": {
        "id": "QffTiE_8GNBJ"
      },
      "execution_count": null,
      "outputs": []
    },
    {
      "cell_type": "code",
      "source": [
        "#1 - Escreva um loop que percorra os números de 1 a 50 e imprima \"Fizz\" para múltiplos de 3, \"Buzz\" para múltiplos de 5 e \"FizzBuzz\" para múltiplos de ambos.\n"
      ],
      "metadata": {
        "id": "mwEy70tUGNFB"
      },
      "execution_count": null,
      "outputs": []
    },
    {
      "cell_type": "code",
      "source": [
        "#1 - Utilize um for e in para contar quantas vogais existem em uma string fornecida pelo usuário.\n"
      ],
      "metadata": {
        "id": "MP8TYnxiGNIi"
      },
      "execution_count": null,
      "outputs": []
    },
    {
      "cell_type": "code",
      "source": [
        "#1 - Crie um jogo de adivinhação onde o computador escolhe um número entre 1 e 100 e o usuário deve adivinhar. O programa deve dar dicas se o número é maior ou menor.\n"
      ],
      "metadata": {
        "id": "aVndfongGNQi"
      },
      "execution_count": null,
      "outputs": []
    },
    {
      "cell_type": "code",
      "source": [
        "#1 - Escreva um programa que utilize while e continue para exibir apenas os números ímpares de 1 a 30.\n"
      ],
      "metadata": {
        "id": "f_EbF4iTGNUp"
      },
      "execution_count": null,
      "outputs": []
    },
    {
      "cell_type": "code",
      "source": [
        "#1 - Crie uma tabela de multiplicação de 1 a 10 utilizando loops aninhados."
      ],
      "metadata": {
        "id": "umOcba7-Gdl7"
      },
      "execution_count": null,
      "outputs": []
    }
  ]
}